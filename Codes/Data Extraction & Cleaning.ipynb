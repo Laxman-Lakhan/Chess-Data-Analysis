{
 "cells": [
  {
   "cell_type": "markdown",
   "id": "a2d12d64",
   "metadata": {},
   "source": [
    "# Installing Libraries"
   ]
  },
  {
   "cell_type": "code",
   "execution_count": 1,
   "id": "4e0719a7",
   "metadata": {},
   "outputs": [],
   "source": [
    "import pandas as pd\n",
    "import numpy as np\n",
    "import math\n",
    "import pytz\n",
    "import berserk # A Python client for the Lichess API.\n",
    "import os\n",
    "import datetime"
   ]
  },
  {
   "cell_type": "markdown",
   "id": "bbdc5605",
   "metadata": {},
   "source": [
    "# Data Extraction"
   ]
  },
  {
   "cell_type": "markdown",
   "id": "b7e86bd1",
   "metadata": {},
   "source": [
    "### Conection to *Berserk Client (API)*"
   ]
  },
  {
   "cell_type": "code",
   "execution_count": 2,
   "id": "47597d20",
   "metadata": {},
   "outputs": [],
   "source": [
    "token = os.environ.get('TOKEN')\n",
    "session = berserk.TokenSession(token)\n",
    "client = berserk.Client(session=session)\n",
    "extract = client.games.export_by_player('YourKingIsInDanger',\n",
    "            as_pgn=False, since=None, until=None, max=None, vs=None, rated=True, \n",
    "            perf_type=None, color=None, analysed=None, moves=True, tags=True, \n",
    "            evals=False, opening=True)\n",
    "data = list(extract)"
   ]
  },
  {
   "cell_type": "markdown",
   "id": "73376611",
   "metadata": {},
   "source": [
    "### Understanding the Extracted Data"
   ]
  },
  {
   "cell_type": "code",
   "execution_count": 3,
   "id": "7ff0a300",
   "metadata": {},
   "outputs": [
    {
     "data": {
      "text/plain": [
       "(list, dict)"
      ]
     },
     "execution_count": 3,
     "metadata": {},
     "output_type": "execute_result"
    }
   ],
   "source": [
    "type(data), type(data[0])"
   ]
  },
  {
   "cell_type": "code",
   "execution_count": 4,
   "id": "ddc89734",
   "metadata": {},
   "outputs": [
    {
     "data": {
      "text/plain": [
       "{'id': 'qnrlibcn',\n",
       " 'rated': True,\n",
       " 'variant': 'standard',\n",
       " 'speed': 'blitz',\n",
       " 'perf': 'blitz',\n",
       " 'createdAt': datetime.datetime(2022, 6, 14, 13, 20, 41, 543000, tzinfo=datetime.timezone.utc),\n",
       " 'lastMoveAt': datetime.datetime(2022, 6, 14, 13, 30, 45, 745000, tzinfo=datetime.timezone.utc),\n",
       " 'status': 'resign',\n",
       " 'players': {'white': {'user': {'name': 'YourKingIsInDanger',\n",
       "    'id': 'yourkingisindanger'},\n",
       "   'rating': 1659,\n",
       "   'ratingDiff': -8},\n",
       "  'black': {'user': {'name': 'Agustin_Perez', 'id': 'agustin_perez'},\n",
       "   'rating': 1606,\n",
       "   'ratingDiff': 7}},\n",
       " 'winner': 'black',\n",
       " 'opening': {'eco': 'C50',\n",
       "  'name': 'Italian Game: Hungarian Defense',\n",
       "  'ply': 6},\n",
       " 'moves': 'e4 e5 Nf3 Nc6 Bc4 Be7 c3 d6 d4 exd4 cxd4 Bg4 h3 Bxf3 Qxf3 Nf6 Be3 O-O O-O a6 Nc3 b5 Bb3 Na5 Bd5 Nxd5 Nxd5 Nc4 b3 Nxe3 fxe3 Bg5 Rf2 c5 Raf1 f6 g3 Ra7 h4 Bh6 Qf5 Raf7 Kh2 Qd7 Qf3 cxd4 exd4 Qe6 Qf5 Qxf5 Rxf5 a5 g4 Bd2 Kg3 b4 Kf2 g6 Rf3 Kg7 Ke2 Bh6 e5 dxe5 dxe5 fxe5 Rxf7+ Rxf7 Rxf7+ Kxf7 Kd3 Bf8 Ke4 Bd6 Nb6 Ke6 Nc4 Bc7 h5 gxh5 gxh5 Kf6 Kd5 Kf5 Ne3+ Kf4 Nc4 e4 Kd4 Kg5 Kxe4 Kxh5 Kd5 Kg4 Kc6 Bd8 Kb5 h5 Nxa5 Bxa5 Kxa5 h4 Kxb4 h3 a4 h2 a5 h1=Q a6 Qa8 a7 Qxa7 Kc4 Qb6 Kc3',\n",
       " 'clock': {'initial': 300, 'increment': 0, 'totalTime': 300}}"
      ]
     },
     "execution_count": 4,
     "metadata": {},
     "output_type": "execute_result"
    }
   ],
   "source": [
    "data[0]"
   ]
  },
  {
   "cell_type": "code",
   "execution_count": 5,
   "id": "232ce4cc",
   "metadata": {},
   "outputs": [
    {
     "data": {
      "text/html": [
       "<div>\n",
       "<style scoped>\n",
       "    .dataframe tbody tr th:only-of-type {\n",
       "        vertical-align: middle;\n",
       "    }\n",
       "\n",
       "    .dataframe tbody tr th {\n",
       "        vertical-align: top;\n",
       "    }\n",
       "\n",
       "    .dataframe thead th {\n",
       "        text-align: right;\n",
       "    }\n",
       "</style>\n",
       "<table border=\"1\" class=\"dataframe\">\n",
       "  <thead>\n",
       "    <tr style=\"text-align: right;\">\n",
       "      <th></th>\n",
       "      <th>id</th>\n",
       "      <th>rated</th>\n",
       "      <th>variant</th>\n",
       "      <th>speed</th>\n",
       "      <th>perf</th>\n",
       "      <th>createdAt</th>\n",
       "      <th>lastMoveAt</th>\n",
       "      <th>status</th>\n",
       "      <th>players</th>\n",
       "      <th>winner</th>\n",
       "      <th>opening</th>\n",
       "      <th>moves</th>\n",
       "      <th>clock</th>\n",
       "      <th>tournament</th>\n",
       "      <th>initialFen</th>\n",
       "    </tr>\n",
       "  </thead>\n",
       "  <tbody>\n",
       "    <tr>\n",
       "      <th>0</th>\n",
       "      <td>qnrlibcn</td>\n",
       "      <td>True</td>\n",
       "      <td>standard</td>\n",
       "      <td>blitz</td>\n",
       "      <td>blitz</td>\n",
       "      <td>2022-06-14 13:20:41.543000+00:00</td>\n",
       "      <td>2022-06-14 13:30:45.745000+00:00</td>\n",
       "      <td>resign</td>\n",
       "      <td>{'white': {'user': {'name': 'YourKingIsInDange...</td>\n",
       "      <td>black</td>\n",
       "      <td>{'eco': 'C50', 'name': 'Italian Game: Hungaria...</td>\n",
       "      <td>e4 e5 Nf3 Nc6 Bc4 Be7 c3 d6 d4 exd4 cxd4 Bg4 h...</td>\n",
       "      <td>{'initial': 300, 'increment': 0, 'totalTime': ...</td>\n",
       "      <td>NaN</td>\n",
       "      <td>NaN</td>\n",
       "    </tr>\n",
       "  </tbody>\n",
       "</table>\n",
       "</div>"
      ],
      "text/plain": [
       "         id  rated   variant  speed   perf                        createdAt  \\\n",
       "0  qnrlibcn   True  standard  blitz  blitz 2022-06-14 13:20:41.543000+00:00   \n",
       "\n",
       "                        lastMoveAt  status  \\\n",
       "0 2022-06-14 13:30:45.745000+00:00  resign   \n",
       "\n",
       "                                             players winner  \\\n",
       "0  {'white': {'user': {'name': 'YourKingIsInDange...  black   \n",
       "\n",
       "                                             opening  \\\n",
       "0  {'eco': 'C50', 'name': 'Italian Game: Hungaria...   \n",
       "\n",
       "                                               moves  \\\n",
       "0  e4 e5 Nf3 Nc6 Bc4 Be7 c3 d6 d4 exd4 cxd4 Bg4 h...   \n",
       "\n",
       "                                               clock tournament initialFen  \n",
       "0  {'initial': 300, 'increment': 0, 'totalTime': ...        NaN        NaN  "
      ]
     },
     "execution_count": 5,
     "metadata": {},
     "output_type": "execute_result"
    }
   ],
   "source": [
    "raw_df = pd.DataFrame(data)\n",
    "raw_df.head(1)"
   ]
  },
  {
   "cell_type": "code",
   "execution_count": 6,
   "id": "f98fd0d1",
   "metadata": {},
   "outputs": [
    {
     "data": {
      "text/plain": [
       "Index(['id', 'rated', 'variant', 'speed', 'perf', 'createdAt', 'lastMoveAt',\n",
       "       'status', 'players', 'winner', 'opening', 'moves', 'clock',\n",
       "       'tournament', 'initialFen'],\n",
       "      dtype='object')"
      ]
     },
     "execution_count": 6,
     "metadata": {},
     "output_type": "execute_result"
    }
   ],
   "source": [
    "raw_df.columns"
   ]
  },
  {
   "cell_type": "markdown",
   "id": "6448cab8",
   "metadata": {},
   "source": [
    "# Data Cleaning"
   ]
  },
  {
   "cell_type": "markdown",
   "id": "a7a3679d",
   "metadata": {},
   "source": [
    "In our data we have\\\n",
    "1. id - *A unique game id of each game.*\\\n",
    "2. rated - *Is game rated or not: True/False*\\\n",
    "3. variant - *Game Variant: Standard, Chess960, From Position, CrazyHouse, etc.*\\\n",
    "4. speed - *Game Type: Rapid, Blitz, Bullet & classical*\\\n",
    "5. perf - *Similar of Game Type: Rapid, Blitz, Bullet & classical*\\\n",
    "6. createdAt - *Time at which game started: YYYY-MM-DD HH:MM:SS.ns+IST*\\\n",
    "7. lastMoveAt - *Time at which game ended: YYYY-MM-DD HH:MM:SS.ns+IST*\\\n",
    "8. status - *How the game ended: checkmate,resign,timeout,etc.*\\\n",
    "9. players - *Dictionary of players details Colorwise: Rating, Rating Change & id.*\\\n",
    "10. winner - *Color of the winner*\\\n",
    "11. opening - *A dictionary with Opening name, Eco & Ply for standard games.*\\\n",
    "12. moves -  *A string of the moves.*\\\n",
    "13. clock - *Time control of the game.*\\\n",
    "14. tournament - *Tournament id if the game is played in a tournament.*\\\n",
    "15. intialFen - *Opening for the game other than standard chess.*\n",
    "\n",
    "---\n",
    "I want to study my standard games as this is normal chess and it can only be analysed.\\\n",
    "• So I will select the variant as standard and rated as True."
   ]
  },
  {
   "cell_type": "markdown",
   "id": "f2ad70d5",
   "metadata": {},
   "source": [
    "#### Inspecting each field"
   ]
  },
  {
   "cell_type": "markdown",
   "id": "cbbbd6f4",
   "metadata": {},
   "source": [
    "###### 1. id"
   ]
  },
  {
   "cell_type": "markdown",
   "id": "8bae3794",
   "metadata": {},
   "source": [
    "- This is a unique game id, which refers to a particular game on the Lichess Server."
   ]
  },
  {
   "cell_type": "code",
   "execution_count": 7,
   "id": "122f6466",
   "metadata": {},
   "outputs": [],
   "source": [
    "# Renaming the column for better understanding\n",
    "raw_df.rename(columns = {'id': 'Game ID'}, inplace = True)"
   ]
  },
  {
   "cell_type": "markdown",
   "id": "1224772e",
   "metadata": {},
   "source": [
    "###### 2. rated"
   ]
  },
  {
   "cell_type": "code",
   "execution_count": 8,
   "id": "0f42ecd0",
   "metadata": {},
   "outputs": [
    {
     "data": {
      "text/plain": [
       "array([ True])"
      ]
     },
     "execution_count": 8,
     "metadata": {},
     "output_type": "execute_result"
    }
   ],
   "source": [
    "raw_df['rated'].unique()"
   ]
  },
  {
   "cell_type": "markdown",
   "id": "5ffc733f",
   "metadata": {},
   "source": [
    "- It has only one value, so this column is no use of us"
   ]
  },
  {
   "cell_type": "markdown",
   "id": "70255755",
   "metadata": {},
   "source": [
    "###### 3. variant "
   ]
  },
  {
   "cell_type": "code",
   "execution_count": 9,
   "id": "9c755c3d",
   "metadata": {},
   "outputs": [
    {
     "data": {
      "text/plain": [
       "array(['standard', 'chess960', 'crazyhouse', 'fromPosition'], dtype=object)"
      ]
     },
     "execution_count": 9,
     "metadata": {},
     "output_type": "execute_result"
    }
   ],
   "source": [
    "raw_df['variant'].unique()"
   ]
  },
  {
   "cell_type": "markdown",
   "id": "3d5efa98",
   "metadata": {},
   "source": [
    "- I only want standard variant so removing all others"
   ]
  },
  {
   "cell_type": "code",
   "execution_count": 10,
   "id": "8549269f",
   "metadata": {},
   "outputs": [],
   "source": [
    "raw_df = raw_df[raw_df['variant'] == 'standard'].copy()"
   ]
  },
  {
   "cell_type": "markdown",
   "id": "9e5f2338",
   "metadata": {},
   "source": [
    "- Now as all of the records have same variant that is standard, So this column is also no use of us"
   ]
  },
  {
   "cell_type": "markdown",
   "id": "6d46e552",
   "metadata": {},
   "source": [
    "###### 4 & 5. speed & perf"
   ]
  },
  {
   "cell_type": "code",
   "execution_count": 11,
   "id": "f3891848",
   "metadata": {},
   "outputs": [
    {
     "data": {
      "text/plain": [
       "array(['blitz', 'rapid', 'bullet', 'classical'], dtype=object)"
      ]
     },
     "execution_count": 11,
     "metadata": {},
     "output_type": "execute_result"
    }
   ],
   "source": [
    "raw_df['speed'].unique()"
   ]
  },
  {
   "cell_type": "code",
   "execution_count": 12,
   "id": "9c22817c",
   "metadata": {},
   "outputs": [
    {
     "data": {
      "text/plain": [
       "array(['blitz', 'rapid', 'bullet', 'classical'], dtype=object)"
      ]
     },
     "execution_count": 12,
     "metadata": {},
     "output_type": "execute_result"
    }
   ],
   "source": [
    "raw_df['perf'].unique()"
   ]
  },
  {
   "cell_type": "markdown",
   "id": "8d2f91ee",
   "metadata": {},
   "source": [
    "- Both looks kind of same so let's check, if there are some data, where they differ in value"
   ]
  },
  {
   "cell_type": "code",
   "execution_count": 13,
   "id": "3bf9d536",
   "metadata": {},
   "outputs": [
    {
     "data": {
      "text/html": [
       "<div>\n",
       "<style scoped>\n",
       "    .dataframe tbody tr th:only-of-type {\n",
       "        vertical-align: middle;\n",
       "    }\n",
       "\n",
       "    .dataframe tbody tr th {\n",
       "        vertical-align: top;\n",
       "    }\n",
       "\n",
       "    .dataframe thead th {\n",
       "        text-align: right;\n",
       "    }\n",
       "</style>\n",
       "<table border=\"1\" class=\"dataframe\">\n",
       "  <thead>\n",
       "    <tr style=\"text-align: right;\">\n",
       "      <th></th>\n",
       "      <th>Game ID</th>\n",
       "      <th>rated</th>\n",
       "      <th>variant</th>\n",
       "      <th>speed</th>\n",
       "      <th>perf</th>\n",
       "      <th>createdAt</th>\n",
       "      <th>lastMoveAt</th>\n",
       "      <th>status</th>\n",
       "      <th>players</th>\n",
       "      <th>winner</th>\n",
       "      <th>opening</th>\n",
       "      <th>moves</th>\n",
       "      <th>clock</th>\n",
       "      <th>tournament</th>\n",
       "      <th>initialFen</th>\n",
       "    </tr>\n",
       "  </thead>\n",
       "  <tbody>\n",
       "  </tbody>\n",
       "</table>\n",
       "</div>"
      ],
      "text/plain": [
       "Empty DataFrame\n",
       "Columns: [Game ID, rated, variant, speed, perf, createdAt, lastMoveAt, status, players, winner, opening, moves, clock, tournament, initialFen]\n",
       "Index: []"
      ]
     },
     "execution_count": 13,
     "metadata": {},
     "output_type": "execute_result"
    }
   ],
   "source": [
    "raw_df[raw_df['speed'] != raw_df['perf']]"
   ]
  },
  {
   "cell_type": "markdown",
   "id": "3aaab1e3",
   "metadata": {},
   "source": [
    "- No, they are exactly same over all records. So, we can keep only 1 of them."
   ]
  },
  {
   "cell_type": "markdown",
   "id": "018a8e12",
   "metadata": {},
   "source": [
    "- Now, I only want Blitz, Rapid and Bullet so removing classical"
   ]
  },
  {
   "cell_type": "code",
   "execution_count": 14,
   "id": "396add8e",
   "metadata": {},
   "outputs": [],
   "source": [
    "raw_df = raw_df[raw_df['perf'] != 'classical'].copy()"
   ]
  },
  {
   "cell_type": "code",
   "execution_count": 15,
   "id": "46a7b4ff",
   "metadata": {},
   "outputs": [],
   "source": [
    "# Formating\n",
    "raw_df.rename(columns = {'perf': 'Game Type'}, inplace = True)\n",
    "raw_df['Game Type'] = raw_df['Game Type'].str.capitalize()"
   ]
  },
  {
   "cell_type": "markdown",
   "id": "5779837f",
   "metadata": {},
   "source": [
    "###### 6 & 7. createdAt & lastMoveAt"
   ]
  },
  {
   "cell_type": "code",
   "execution_count": 16,
   "id": "ade07e16",
   "metadata": {},
   "outputs": [
    {
     "data": {
      "text/plain": [
       "createdAt     datetime64[ns, UTC]\n",
       "lastMoveAt    datetime64[ns, UTC]\n",
       "dtype: object"
      ]
     },
     "execution_count": 16,
     "metadata": {},
     "output_type": "execute_result"
    }
   ],
   "source": [
    "raw_df[['createdAt','lastMoveAt']].dtypes"
   ]
  },
  {
   "cell_type": "markdown",
   "id": "f28f6f76",
   "metadata": {},
   "source": [
    "- These are datetime objects but the timezone is UTC, we want Asia/Kolkata Timezone so,"
   ]
  },
  {
   "cell_type": "code",
   "execution_count": 17,
   "id": "e48aea95",
   "metadata": {},
   "outputs": [],
   "source": [
    "raw_df['createdAt'] = raw_df['createdAt'].dt.tz_convert('Asia/Kolkata')\n",
    "raw_df['lastMoveAt'] = raw_df['lastMoveAt'].dt.tz_convert('Asia/Kolkata')"
   ]
  },
  {
   "cell_type": "code",
   "execution_count": 18,
   "id": "1df1fbef",
   "metadata": {},
   "outputs": [
    {
     "data": {
      "text/html": [
       "<div>\n",
       "<style scoped>\n",
       "    .dataframe tbody tr th:only-of-type {\n",
       "        vertical-align: middle;\n",
       "    }\n",
       "\n",
       "    .dataframe tbody tr th {\n",
       "        vertical-align: top;\n",
       "    }\n",
       "\n",
       "    .dataframe thead th {\n",
       "        text-align: right;\n",
       "    }\n",
       "</style>\n",
       "<table border=\"1\" class=\"dataframe\">\n",
       "  <thead>\n",
       "    <tr style=\"text-align: right;\">\n",
       "      <th></th>\n",
       "      <th>createdAt</th>\n",
       "      <th>lastMoveAt</th>\n",
       "    </tr>\n",
       "  </thead>\n",
       "  <tbody>\n",
       "    <tr>\n",
       "      <th>0</th>\n",
       "      <td>2022-06-14 18:50:41.543000+05:30</td>\n",
       "      <td>2022-06-14 19:00:45.745000+05:30</td>\n",
       "    </tr>\n",
       "  </tbody>\n",
       "</table>\n",
       "</div>"
      ],
      "text/plain": [
       "                         createdAt                       lastMoveAt\n",
       "0 2022-06-14 18:50:41.543000+05:30 2022-06-14 19:00:45.745000+05:30"
      ]
     },
     "execution_count": 18,
     "metadata": {},
     "output_type": "execute_result"
    }
   ],
   "source": [
    "raw_df[['createdAt','lastMoveAt']].head(1)"
   ]
  },
  {
   "cell_type": "markdown",
   "id": "3d7db0a9",
   "metadata": {},
   "source": [
    "- They contain microseconds, but we don't need that. so,"
   ]
  },
  {
   "cell_type": "code",
   "execution_count": 19,
   "id": "00f3217d",
   "metadata": {},
   "outputs": [],
   "source": [
    "raw_df['createdAt'] = pd.to_datetime(raw_df['createdAt'].dt.strftime('%Y-%m-%d %H:%M:%S'))\n",
    "raw_df['lastMoveAt'] = pd.to_datetime(raw_df['lastMoveAt'].dt.strftime('%Y-%m-%d %H:%M:%S'))"
   ]
  },
  {
   "cell_type": "code",
   "execution_count": 20,
   "id": "382769ff",
   "metadata": {},
   "outputs": [],
   "source": [
    "# Creating Seperate Date and Time fields for Day Analysis.\n",
    "raw_df['Start Time'] = raw_df['createdAt'].dt.time\n",
    "raw_df['Start Date'] = (raw_df['createdAt'].dt.date).astype('datetime64')\n",
    "\n",
    "raw_df['End Time'] = raw_df['lastMoveAt'].dt.time\n",
    "raw_df['End Date'] = (raw_df['lastMoveAt'].dt.date).astype('datetime64')"
   ]
  },
  {
   "cell_type": "code",
   "execution_count": 21,
   "id": "1fd653a9",
   "metadata": {},
   "outputs": [
    {
     "data": {
      "text/html": [
       "<div>\n",
       "<style scoped>\n",
       "    .dataframe tbody tr th:only-of-type {\n",
       "        vertical-align: middle;\n",
       "    }\n",
       "\n",
       "    .dataframe tbody tr th {\n",
       "        vertical-align: top;\n",
       "    }\n",
       "\n",
       "    .dataframe thead th {\n",
       "        text-align: right;\n",
       "    }\n",
       "</style>\n",
       "<table border=\"1\" class=\"dataframe\">\n",
       "  <thead>\n",
       "    <tr style=\"text-align: right;\">\n",
       "      <th></th>\n",
       "      <th>Game ID</th>\n",
       "      <th>rated</th>\n",
       "      <th>variant</th>\n",
       "      <th>speed</th>\n",
       "      <th>Game Type</th>\n",
       "      <th>createdAt</th>\n",
       "      <th>lastMoveAt</th>\n",
       "      <th>status</th>\n",
       "      <th>players</th>\n",
       "      <th>winner</th>\n",
       "      <th>opening</th>\n",
       "      <th>moves</th>\n",
       "      <th>clock</th>\n",
       "      <th>tournament</th>\n",
       "      <th>initialFen</th>\n",
       "      <th>Start Time</th>\n",
       "      <th>Start Date</th>\n",
       "      <th>End Time</th>\n",
       "      <th>End Date</th>\n",
       "    </tr>\n",
       "  </thead>\n",
       "  <tbody>\n",
       "    <tr>\n",
       "      <th>0</th>\n",
       "      <td>qnrlibcn</td>\n",
       "      <td>True</td>\n",
       "      <td>standard</td>\n",
       "      <td>blitz</td>\n",
       "      <td>Blitz</td>\n",
       "      <td>2022-06-14 18:50:41</td>\n",
       "      <td>2022-06-14 19:00:45</td>\n",
       "      <td>resign</td>\n",
       "      <td>{'white': {'user': {'name': 'YourKingIsInDange...</td>\n",
       "      <td>black</td>\n",
       "      <td>{'eco': 'C50', 'name': 'Italian Game: Hungaria...</td>\n",
       "      <td>e4 e5 Nf3 Nc6 Bc4 Be7 c3 d6 d4 exd4 cxd4 Bg4 h...</td>\n",
       "      <td>{'initial': 300, 'increment': 0, 'totalTime': ...</td>\n",
       "      <td>NaN</td>\n",
       "      <td>NaN</td>\n",
       "      <td>18:50:41</td>\n",
       "      <td>2022-06-14</td>\n",
       "      <td>19:00:45</td>\n",
       "      <td>2022-06-14</td>\n",
       "    </tr>\n",
       "  </tbody>\n",
       "</table>\n",
       "</div>"
      ],
      "text/plain": [
       "    Game ID  rated   variant  speed Game Type           createdAt  \\\n",
       "0  qnrlibcn   True  standard  blitz     Blitz 2022-06-14 18:50:41   \n",
       "\n",
       "           lastMoveAt  status  \\\n",
       "0 2022-06-14 19:00:45  resign   \n",
       "\n",
       "                                             players winner  \\\n",
       "0  {'white': {'user': {'name': 'YourKingIsInDange...  black   \n",
       "\n",
       "                                             opening  \\\n",
       "0  {'eco': 'C50', 'name': 'Italian Game: Hungaria...   \n",
       "\n",
       "                                               moves  \\\n",
       "0  e4 e5 Nf3 Nc6 Bc4 Be7 c3 d6 d4 exd4 cxd4 Bg4 h...   \n",
       "\n",
       "                                               clock tournament initialFen  \\\n",
       "0  {'initial': 300, 'increment': 0, 'totalTime': ...        NaN        NaN   \n",
       "\n",
       "  Start Time Start Date  End Time   End Date  \n",
       "0   18:50:41 2022-06-14  19:00:45 2022-06-14  "
      ]
     },
     "execution_count": 21,
     "metadata": {},
     "output_type": "execute_result"
    }
   ],
   "source": [
    "raw_df.head(1)"
   ]
  },
  {
   "cell_type": "markdown",
   "id": "828e7532",
   "metadata": {},
   "source": [
    "###### 8. status"
   ]
  },
  {
   "cell_type": "code",
   "execution_count": 22,
   "id": "17e1bc64",
   "metadata": {},
   "outputs": [
    {
     "data": {
      "text/plain": [
       "array(['resign', 'outoftime', 'timeout', 'mate', 'draw', 'stalemate'],\n",
       "      dtype=object)"
      ]
     },
     "execution_count": 22,
     "metadata": {},
     "output_type": "execute_result"
    }
   ],
   "source": [
    "raw_df['status'].unique()"
   ]
  },
  {
   "cell_type": "code",
   "execution_count": 23,
   "id": "e2407173",
   "metadata": {},
   "outputs": [],
   "source": [
    "raw_df.rename(columns = {'status':'Status'}, inplace = True)"
   ]
  },
  {
   "cell_type": "code",
   "execution_count": 24,
   "id": "c0b1f49b",
   "metadata": {},
   "outputs": [],
   "source": [
    "# Formating\n",
    "raw_df['Status'].replace({'outoftime':'Out Of Time', 'timeout': 'Game Abandoned', \n",
    "                          'resign': 'Resign', 'mate': 'Checkmate', 'stalemate': 'Stalemate',\n",
    "                         'draw': 'Draw'}, inplace = True)"
   ]
  },
  {
   "cell_type": "code",
   "execution_count": 25,
   "id": "41ec9d43",
   "metadata": {},
   "outputs": [
    {
     "data": {
      "text/plain": [
       "array(['Resign', 'Out Of Time', 'Game Abandoned', 'Checkmate', 'Draw',\n",
       "       'Stalemate'], dtype=object)"
      ]
     },
     "execution_count": 25,
     "metadata": {},
     "output_type": "execute_result"
    }
   ],
   "source": [
    "raw_df['Status'].unique()"
   ]
  },
  {
   "cell_type": "markdown",
   "id": "a135be07",
   "metadata": {},
   "source": [
    "#### 9. players"
   ]
  },
  {
   "cell_type": "code",
   "execution_count": 26,
   "id": "01b960b0",
   "metadata": {},
   "outputs": [
    {
     "data": {
      "text/plain": [
       "0       {'white': {'user': {'name': 'YourKingIsInDange...\n",
       "1       {'white': {'user': {'name': 'Hanber', 'id': 'h...\n",
       "2       {'white': {'user': {'name': 'YourKingIsInDange...\n",
       "3       {'white': {'user': {'name': 'Gryym', 'id': 'gr...\n",
       "4       {'white': {'user': {'name': 'YourKingIsInDange...\n",
       "                              ...                        \n",
       "1223    {'white': {'user': {'name': 'Osla', 'id': 'osl...\n",
       "1224    {'white': {'user': {'name': 'Sanyi80', 'id': '...\n",
       "1225    {'white': {'user': {'name': 'YourKingIsInDange...\n",
       "1226    {'white': {'user': {'name': 'VeenaG', 'id': 'v...\n",
       "1227    {'white': {'user': {'name': 'YourKingIsInDange...\n",
       "Name: players, Length: 1212, dtype: object"
      ]
     },
     "execution_count": 26,
     "metadata": {},
     "output_type": "execute_result"
    }
   ],
   "source": [
    "raw_df['players']"
   ]
  },
  {
   "cell_type": "code",
   "execution_count": 27,
   "id": "1e6220d7",
   "metadata": {},
   "outputs": [
    {
     "data": {
      "text/plain": [
       "{'white': {'user': {'name': 'YourKingIsInDanger', 'id': 'yourkingisindanger'},\n",
       "  'rating': 1659,\n",
       "  'ratingDiff': -8},\n",
       " 'black': {'user': {'name': 'Agustin_Perez', 'id': 'agustin_perez'},\n",
       "  'rating': 1606,\n",
       "  'ratingDiff': 7}}"
      ]
     },
     "execution_count": 27,
     "metadata": {},
     "output_type": "execute_result"
    }
   ],
   "source": [
    "raw_df['players'][0]"
   ]
  },
  {
   "cell_type": "markdown",
   "id": "666eb8e0",
   "metadata": {},
   "source": [
    "- The entry is a dictionary, with alot of data, so creating new columns to save that data"
   ]
  },
  {
   "cell_type": "code",
   "execution_count": 28,
   "id": "4e7f65b6",
   "metadata": {},
   "outputs": [],
   "source": [
    "raw_df['White_id'] = [x['white']['user']['id'] for x in raw_df['players']]\n",
    "raw_df['White ELO'] = [x['white']['rating'] for x in raw_df['players']]\n",
    "raw_df['White ELO Change'] = [x['white']['ratingDiff'] for x in raw_df['players']]\n",
    "\n",
    "raw_df['Black_id'] = [x['black']['user']['id'] for x in raw_df['players']]\n",
    "raw_df['Black ELO'] = [x['black']['rating'] for x in raw_df['players']]\n",
    "raw_df['Black ELO Change'] = [x['black']['ratingDiff'] for x in raw_df['players']]"
   ]
  },
  {
   "cell_type": "markdown",
   "id": "5dba7303",
   "metadata": {},
   "source": [
    "- The data is stored in geenral way on basis of color but i want data basis on player so,"
   ]
  },
  {
   "cell_type": "code",
   "execution_count": 29,
   "id": "1f74e4de",
   "metadata": {},
   "outputs": [],
   "source": [
    "raw_df['My ID'] = ''\n",
    "raw_df['My Rating'] = ''\n",
    "raw_df['My Rating Change'] = ''\n",
    "\n",
    "raw_df['Opponent ID'] = ''\n",
    "raw_df['Opponent Rating'] = ''\n",
    "raw_df['Opponent Rating Change'] = ''\n",
    "raw_df['My Color'] = ''"
   ]
  },
  {
   "cell_type": "code",
   "execution_count": 30,
   "id": "726e49fd",
   "metadata": {},
   "outputs": [
    {
     "data": {
      "text/html": [
       "<div>\n",
       "<style scoped>\n",
       "    .dataframe tbody tr th:only-of-type {\n",
       "        vertical-align: middle;\n",
       "    }\n",
       "\n",
       "    .dataframe tbody tr th {\n",
       "        vertical-align: top;\n",
       "    }\n",
       "\n",
       "    .dataframe thead th {\n",
       "        text-align: right;\n",
       "    }\n",
       "</style>\n",
       "<table border=\"1\" class=\"dataframe\">\n",
       "  <thead>\n",
       "    <tr style=\"text-align: right;\">\n",
       "      <th></th>\n",
       "      <th>Game ID</th>\n",
       "      <th>rated</th>\n",
       "      <th>variant</th>\n",
       "      <th>speed</th>\n",
       "      <th>Game Type</th>\n",
       "      <th>createdAt</th>\n",
       "      <th>lastMoveAt</th>\n",
       "      <th>Status</th>\n",
       "      <th>players</th>\n",
       "      <th>winner</th>\n",
       "      <th>...</th>\n",
       "      <th>Black_id</th>\n",
       "      <th>Black ELO</th>\n",
       "      <th>Black ELO Change</th>\n",
       "      <th>My ID</th>\n",
       "      <th>My Rating</th>\n",
       "      <th>My Rating Change</th>\n",
       "      <th>Opponent ID</th>\n",
       "      <th>Opponent Rating</th>\n",
       "      <th>Opponent Rating Change</th>\n",
       "      <th>My Color</th>\n",
       "    </tr>\n",
       "  </thead>\n",
       "  <tbody>\n",
       "    <tr>\n",
       "      <th>0</th>\n",
       "      <td>qnrlibcn</td>\n",
       "      <td>True</td>\n",
       "      <td>standard</td>\n",
       "      <td>blitz</td>\n",
       "      <td>Blitz</td>\n",
       "      <td>2022-06-14 18:50:41</td>\n",
       "      <td>2022-06-14 19:00:45</td>\n",
       "      <td>Resign</td>\n",
       "      <td>{'white': {'user': {'name': 'YourKingIsInDange...</td>\n",
       "      <td>black</td>\n",
       "      <td>...</td>\n",
       "      <td>agustin_perez</td>\n",
       "      <td>1606</td>\n",
       "      <td>7</td>\n",
       "      <td></td>\n",
       "      <td></td>\n",
       "      <td></td>\n",
       "      <td></td>\n",
       "      <td></td>\n",
       "      <td></td>\n",
       "      <td></td>\n",
       "    </tr>\n",
       "  </tbody>\n",
       "</table>\n",
       "<p>1 rows × 32 columns</p>\n",
       "</div>"
      ],
      "text/plain": [
       "    Game ID  rated   variant  speed Game Type           createdAt  \\\n",
       "0  qnrlibcn   True  standard  blitz     Blitz 2022-06-14 18:50:41   \n",
       "\n",
       "           lastMoveAt  Status  \\\n",
       "0 2022-06-14 19:00:45  Resign   \n",
       "\n",
       "                                             players winner  ...  \\\n",
       "0  {'white': {'user': {'name': 'YourKingIsInDange...  black  ...   \n",
       "\n",
       "        Black_id Black ELO Black ELO Change My ID My Rating My Rating Change  \\\n",
       "0  agustin_perez      1606                7                                    \n",
       "\n",
       "  Opponent ID Opponent Rating Opponent Rating Change My Color  \n",
       "0                                                              \n",
       "\n",
       "[1 rows x 32 columns]"
      ]
     },
     "execution_count": 30,
     "metadata": {},
     "output_type": "execute_result"
    }
   ],
   "source": [
    "raw_df.head(1)"
   ]
  },
  {
   "cell_type": "code",
   "execution_count": 31,
   "id": "f0eaff13",
   "metadata": {},
   "outputs": [
    {
     "data": {
      "text/plain": [
       "Index(['Game ID', 'rated', 'variant', 'speed', 'Game Type', 'createdAt',\n",
       "       'lastMoveAt', 'Status', 'players', 'winner', 'opening', 'moves',\n",
       "       'clock', 'tournament', 'initialFen', 'Start Time', 'Start Date',\n",
       "       'End Time', 'End Date', 'White_id', 'White ELO', 'White ELO Change',\n",
       "       'Black_id', 'Black ELO', 'Black ELO Change', 'My ID', 'My Rating',\n",
       "       'My Rating Change', 'Opponent ID', 'Opponent Rating',\n",
       "       'Opponent Rating Change', 'My Color'],\n",
       "      dtype='object')"
      ]
     },
     "execution_count": 31,
     "metadata": {},
     "output_type": "execute_result"
    }
   ],
   "source": [
    "raw_df.columns"
   ]
  },
  {
   "cell_type": "markdown",
   "id": "adb99465",
   "metadata": {},
   "source": [
    "- Index of the columns:\\\n",
    "• 'White_id' - 19         • 'White ELO' - 20         • 'White ELO Change' - 21\\\n",
    "• 'Black_id' - 22         • 'Black ELO' - 23         • 'Black ELO Change' - 24\\\n",
    "• 'My ID' - 25            • 'My Rating' - 26         • 'My Rating Change' - 27\\\n",
    "• 'Opponent ID' - 28      • 'Opponent Rating' - 29   • 'Opponent Rating Change' - 30\\\n",
    "• 'My Color' - 31"
   ]
  },
  {
   "cell_type": "code",
   "execution_count": 32,
   "id": "6c46906d",
   "metadata": {},
   "outputs": [],
   "source": [
    "## Creating a function which will arrange the data on basis of players\n",
    "def opp_my_distributor(checker, my, white, opp, black):\n",
    "    for i in range(len(raw_df)):\n",
    "        if raw_df.iloc[i,checker] == 'yourkingisindanger':\n",
    "            raw_df.iloc[i,my] = raw_df.iloc[i,white]\n",
    "            raw_df.iloc[i,opp] = raw_df.iloc[i,black]\n",
    "            \n",
    "        else:\n",
    "            raw_df.iloc[i,my] = raw_df.iloc[i,black]\n",
    "            raw_df.iloc[i,opp] = raw_df.iloc[i,white]"
   ]
  },
  {
   "cell_type": "code",
   "execution_count": 33,
   "id": "449ab4ef",
   "metadata": {},
   "outputs": [],
   "source": [
    "opp_my_distributor(19, 25, 19, 28, 22) ## ID\n",
    "opp_my_distributor(19, 26, 20, 29, 23) ## Rating\n",
    "opp_my_distributor(19, 27, 21, 30, 24) ## Rating Change"
   ]
  },
  {
   "cell_type": "code",
   "execution_count": 34,
   "id": "d8935318",
   "metadata": {},
   "outputs": [],
   "source": [
    "raw_df.loc[raw_df['White_id'] == 'yourkingisindanger', 'My Color'] = 'White'\n",
    "raw_df.loc[raw_df['Black_id'] == 'yourkingisindanger', 'My Color'] = 'Black'"
   ]
  },
  {
   "cell_type": "code",
   "execution_count": 35,
   "id": "75c0db8d",
   "metadata": {},
   "outputs": [
    {
     "data": {
      "text/html": [
       "<div>\n",
       "<style scoped>\n",
       "    .dataframe tbody tr th:only-of-type {\n",
       "        vertical-align: middle;\n",
       "    }\n",
       "\n",
       "    .dataframe tbody tr th {\n",
       "        vertical-align: top;\n",
       "    }\n",
       "\n",
       "    .dataframe thead th {\n",
       "        text-align: right;\n",
       "    }\n",
       "</style>\n",
       "<table border=\"1\" class=\"dataframe\">\n",
       "  <thead>\n",
       "    <tr style=\"text-align: right;\">\n",
       "      <th></th>\n",
       "      <th>Game ID</th>\n",
       "      <th>rated</th>\n",
       "      <th>variant</th>\n",
       "      <th>speed</th>\n",
       "      <th>Game Type</th>\n",
       "      <th>createdAt</th>\n",
       "      <th>lastMoveAt</th>\n",
       "      <th>Status</th>\n",
       "      <th>players</th>\n",
       "      <th>winner</th>\n",
       "      <th>...</th>\n",
       "      <th>Black_id</th>\n",
       "      <th>Black ELO</th>\n",
       "      <th>Black ELO Change</th>\n",
       "      <th>My ID</th>\n",
       "      <th>My Rating</th>\n",
       "      <th>My Rating Change</th>\n",
       "      <th>Opponent ID</th>\n",
       "      <th>Opponent Rating</th>\n",
       "      <th>Opponent Rating Change</th>\n",
       "      <th>My Color</th>\n",
       "    </tr>\n",
       "  </thead>\n",
       "  <tbody>\n",
       "    <tr>\n",
       "      <th>0</th>\n",
       "      <td>qnrlibcn</td>\n",
       "      <td>True</td>\n",
       "      <td>standard</td>\n",
       "      <td>blitz</td>\n",
       "      <td>Blitz</td>\n",
       "      <td>2022-06-14 18:50:41</td>\n",
       "      <td>2022-06-14 19:00:45</td>\n",
       "      <td>Resign</td>\n",
       "      <td>{'white': {'user': {'name': 'YourKingIsInDange...</td>\n",
       "      <td>black</td>\n",
       "      <td>...</td>\n",
       "      <td>agustin_perez</td>\n",
       "      <td>1606</td>\n",
       "      <td>7</td>\n",
       "      <td>yourkingisindanger</td>\n",
       "      <td>1659</td>\n",
       "      <td>-8</td>\n",
       "      <td>agustin_perez</td>\n",
       "      <td>1606</td>\n",
       "      <td>7</td>\n",
       "      <td>White</td>\n",
       "    </tr>\n",
       "  </tbody>\n",
       "</table>\n",
       "<p>1 rows × 32 columns</p>\n",
       "</div>"
      ],
      "text/plain": [
       "    Game ID  rated   variant  speed Game Type           createdAt  \\\n",
       "0  qnrlibcn   True  standard  blitz     Blitz 2022-06-14 18:50:41   \n",
       "\n",
       "           lastMoveAt  Status  \\\n",
       "0 2022-06-14 19:00:45  Resign   \n",
       "\n",
       "                                             players winner  ...  \\\n",
       "0  {'white': {'user': {'name': 'YourKingIsInDange...  black  ...   \n",
       "\n",
       "        Black_id Black ELO Black ELO Change               My ID My Rating  \\\n",
       "0  agustin_perez      1606                7  yourkingisindanger      1659   \n",
       "\n",
       "  My Rating Change    Opponent ID Opponent Rating Opponent Rating Change  \\\n",
       "0               -8  agustin_perez            1606                      7   \n",
       "\n",
       "  My Color  \n",
       "0    White  \n",
       "\n",
       "[1 rows x 32 columns]"
      ]
     },
     "execution_count": 35,
     "metadata": {},
     "output_type": "execute_result"
    }
   ],
   "source": [
    "raw_df.head(1)"
   ]
  },
  {
   "cell_type": "markdown",
   "id": "e8c734d3",
   "metadata": {},
   "source": [
    "###### 10. winner"
   ]
  },
  {
   "cell_type": "code",
   "execution_count": 36,
   "id": "b73299c6",
   "metadata": {},
   "outputs": [
    {
     "data": {
      "text/plain": [
       "array(['black', 'white', nan], dtype=object)"
      ]
     },
     "execution_count": 36,
     "metadata": {},
     "output_type": "execute_result"
    }
   ],
   "source": [
    "raw_df['winner'].unique()"
   ]
  },
  {
   "cell_type": "markdown",
   "id": "5b7d74d0",
   "metadata": {},
   "source": [
    "- The nan values in winner denotes the matches where the result is Draw"
   ]
  },
  {
   "cell_type": "code",
   "execution_count": 37,
   "id": "ce9df2bf",
   "metadata": {},
   "outputs": [],
   "source": [
    "# Making a Result with where i can record if i won, lose or draw.\n",
    "raw_df.loc[raw_df['My Color'].str.lower() == raw_df['winner'], 'Result'] = \"Won\"\n",
    "raw_df.loc[~(raw_df['My Color'].str.lower() == raw_df['winner']), 'Result'] = 'Lose'\n",
    "raw_df.loc[raw_df['winner'].isna(), 'Result'] = 'Draw'"
   ]
  },
  {
   "cell_type": "code",
   "execution_count": 38,
   "id": "a15b16e6",
   "metadata": {},
   "outputs": [
    {
     "data": {
      "text/html": [
       "<div>\n",
       "<style scoped>\n",
       "    .dataframe tbody tr th:only-of-type {\n",
       "        vertical-align: middle;\n",
       "    }\n",
       "\n",
       "    .dataframe tbody tr th {\n",
       "        vertical-align: top;\n",
       "    }\n",
       "\n",
       "    .dataframe thead th {\n",
       "        text-align: right;\n",
       "    }\n",
       "</style>\n",
       "<table border=\"1\" class=\"dataframe\">\n",
       "  <thead>\n",
       "    <tr style=\"text-align: right;\">\n",
       "      <th></th>\n",
       "      <th>Game ID</th>\n",
       "      <th>rated</th>\n",
       "      <th>variant</th>\n",
       "      <th>speed</th>\n",
       "      <th>Game Type</th>\n",
       "      <th>createdAt</th>\n",
       "      <th>lastMoveAt</th>\n",
       "      <th>Status</th>\n",
       "      <th>players</th>\n",
       "      <th>winner</th>\n",
       "      <th>...</th>\n",
       "      <th>Black ELO</th>\n",
       "      <th>Black ELO Change</th>\n",
       "      <th>My ID</th>\n",
       "      <th>My Rating</th>\n",
       "      <th>My Rating Change</th>\n",
       "      <th>Opponent ID</th>\n",
       "      <th>Opponent Rating</th>\n",
       "      <th>Opponent Rating Change</th>\n",
       "      <th>My Color</th>\n",
       "      <th>Result</th>\n",
       "    </tr>\n",
       "  </thead>\n",
       "  <tbody>\n",
       "    <tr>\n",
       "      <th>0</th>\n",
       "      <td>qnrlibcn</td>\n",
       "      <td>True</td>\n",
       "      <td>standard</td>\n",
       "      <td>blitz</td>\n",
       "      <td>Blitz</td>\n",
       "      <td>2022-06-14 18:50:41</td>\n",
       "      <td>2022-06-14 19:00:45</td>\n",
       "      <td>Resign</td>\n",
       "      <td>{'white': {'user': {'name': 'YourKingIsInDange...</td>\n",
       "      <td>black</td>\n",
       "      <td>...</td>\n",
       "      <td>1606</td>\n",
       "      <td>7</td>\n",
       "      <td>yourkingisindanger</td>\n",
       "      <td>1659</td>\n",
       "      <td>-8</td>\n",
       "      <td>agustin_perez</td>\n",
       "      <td>1606</td>\n",
       "      <td>7</td>\n",
       "      <td>White</td>\n",
       "      <td>Lose</td>\n",
       "    </tr>\n",
       "  </tbody>\n",
       "</table>\n",
       "<p>1 rows × 33 columns</p>\n",
       "</div>"
      ],
      "text/plain": [
       "    Game ID  rated   variant  speed Game Type           createdAt  \\\n",
       "0  qnrlibcn   True  standard  blitz     Blitz 2022-06-14 18:50:41   \n",
       "\n",
       "           lastMoveAt  Status  \\\n",
       "0 2022-06-14 19:00:45  Resign   \n",
       "\n",
       "                                             players winner  ... Black ELO  \\\n",
       "0  {'white': {'user': {'name': 'YourKingIsInDange...  black  ...      1606   \n",
       "\n",
       "  Black ELO Change               My ID My Rating My Rating Change  \\\n",
       "0                7  yourkingisindanger      1659               -8   \n",
       "\n",
       "     Opponent ID Opponent Rating Opponent Rating Change My Color Result  \n",
       "0  agustin_perez            1606                      7    White   Lose  \n",
       "\n",
       "[1 rows x 33 columns]"
      ]
     },
     "execution_count": 38,
     "metadata": {},
     "output_type": "execute_result"
    }
   ],
   "source": [
    "raw_df.head(1)"
   ]
  },
  {
   "cell_type": "markdown",
   "id": "3690c3f9",
   "metadata": {},
   "source": [
    "#### 11. opening"
   ]
  },
  {
   "cell_type": "code",
   "execution_count": 39,
   "id": "086b380d",
   "metadata": {},
   "outputs": [
    {
     "data": {
      "text/plain": [
       "0       {'eco': 'C50', 'name': 'Italian Game: Hungaria...\n",
       "1       {'eco': 'C50', 'name': 'Italian Game: Anti-Fri...\n",
       "2       {'eco': 'C42', 'name': 'Russian Game: Cozio At...\n",
       "3       {'eco': 'E70', 'name': 'King's Indian Defense:...\n",
       "4        {'eco': 'B00', 'name': 'Duras Gambit', 'ply': 2}\n",
       "                              ...                        \n",
       "1223    {'eco': 'C20', 'name': 'King's Pawn Game: Leon...\n",
       "1224    {'eco': 'A40', 'name': 'Modern Defense', 'ply'...\n",
       "1225    {'eco': 'C41', 'name': 'Philidor Defense', 'pl...\n",
       "1226    {'eco': 'A00', 'name': 'Saragossa Opening', 'p...\n",
       "1227    {'eco': 'B50', 'name': 'Sicilian Defense: Mode...\n",
       "Name: opening, Length: 1212, dtype: object"
      ]
     },
     "execution_count": 39,
     "metadata": {},
     "output_type": "execute_result"
    }
   ],
   "source": [
    "raw_df['opening']"
   ]
  },
  {
   "cell_type": "markdown",
   "id": "a943753c",
   "metadata": {},
   "source": [
    "- It is a Dictionary, so extracting the data using list comprehension"
   ]
  },
  {
   "cell_type": "code",
   "execution_count": 40,
   "id": "65d5da43",
   "metadata": {},
   "outputs": [],
   "source": [
    "raw_df['Opening ECO'] = [ x['eco'] for x in raw_df['opening']]\n",
    "raw_df['Opening'] = [ x['name'] for x in raw_df['opening']]\n",
    "raw_df['Opening Ply'] = [ x['ply'] for x in raw_df['opening']]"
   ]
  },
  {
   "cell_type": "code",
   "execution_count": 41,
   "id": "376b4b4b",
   "metadata": {},
   "outputs": [
    {
     "data": {
      "text/plain": [
       "0                         Italian Game: Hungarian Defense\n",
       "1                  Italian Game: Anti-Fried Liver Defense\n",
       "2                              Russian Game: Cozio Attack\n",
       "3       King's Indian Defense: Accelerated Averbakh Va...\n",
       "4                                            Duras Gambit\n",
       "                              ...                        \n",
       "1223                King's Pawn Game: Leonardis Variation\n",
       "1224                                       Modern Defense\n",
       "1225                                     Philidor Defense\n",
       "1226                                    Saragossa Opening\n",
       "1227                  Sicilian Defense: Modern Variations\n",
       "Name: Opening, Length: 1212, dtype: object"
      ]
     },
     "execution_count": 41,
     "metadata": {},
     "output_type": "execute_result"
    }
   ],
   "source": [
    "raw_df['Opening']"
   ]
  },
  {
   "cell_type": "markdown",
   "id": "38e1579a",
   "metadata": {},
   "source": [
    "- The Opening name consists of the Main name and the variation, I want them seperately So,"
   ]
  },
  {
   "cell_type": "code",
   "execution_count": 42,
   "id": "0debc98f",
   "metadata": {},
   "outputs": [],
   "source": [
    "def seperator(x,y):\n",
    "    try:\n",
    "        l = x.split(':')\n",
    "        if y == 0:\n",
    "            return l[y]\n",
    "        else:\n",
    "            if len(l) == 1:\n",
    "                return None\n",
    "            else:\n",
    "                return l[y]\n",
    "            \n",
    "    except:\n",
    "        return None"
   ]
  },
  {
   "cell_type": "code",
   "execution_count": 43,
   "id": "0b90b6fd",
   "metadata": {},
   "outputs": [],
   "source": [
    "raw_df['Opening Name'] = [seperator(x,0) for x in raw_df['Opening']]\n",
    "raw_df['Opening Variation'] = [seperator(x,1) for x in raw_df['Opening']]"
   ]
  },
  {
   "cell_type": "code",
   "execution_count": 44,
   "id": "b26a8def",
   "metadata": {},
   "outputs": [
    {
     "data": {
      "text/html": [
       "<div>\n",
       "<style scoped>\n",
       "    .dataframe tbody tr th:only-of-type {\n",
       "        vertical-align: middle;\n",
       "    }\n",
       "\n",
       "    .dataframe tbody tr th {\n",
       "        vertical-align: top;\n",
       "    }\n",
       "\n",
       "    .dataframe thead th {\n",
       "        text-align: right;\n",
       "    }\n",
       "</style>\n",
       "<table border=\"1\" class=\"dataframe\">\n",
       "  <thead>\n",
       "    <tr style=\"text-align: right;\">\n",
       "      <th></th>\n",
       "      <th>Opening</th>\n",
       "      <th>Opening Name</th>\n",
       "      <th>Opening Variation</th>\n",
       "    </tr>\n",
       "  </thead>\n",
       "  <tbody>\n",
       "    <tr>\n",
       "      <th>0</th>\n",
       "      <td>Italian Game: Hungarian Defense</td>\n",
       "      <td>Italian Game</td>\n",
       "      <td>Hungarian Defense</td>\n",
       "    </tr>\n",
       "    <tr>\n",
       "      <th>1</th>\n",
       "      <td>Italian Game: Anti-Fried Liver Defense</td>\n",
       "      <td>Italian Game</td>\n",
       "      <td>Anti-Fried Liver Defense</td>\n",
       "    </tr>\n",
       "    <tr>\n",
       "      <th>2</th>\n",
       "      <td>Russian Game: Cozio Attack</td>\n",
       "      <td>Russian Game</td>\n",
       "      <td>Cozio Attack</td>\n",
       "    </tr>\n",
       "    <tr>\n",
       "      <th>3</th>\n",
       "      <td>King's Indian Defense: Accelerated Averbakh Va...</td>\n",
       "      <td>King's Indian Defense</td>\n",
       "      <td>Accelerated Averbakh Variation</td>\n",
       "    </tr>\n",
       "    <tr>\n",
       "      <th>4</th>\n",
       "      <td>Duras Gambit</td>\n",
       "      <td>Duras Gambit</td>\n",
       "      <td>None</td>\n",
       "    </tr>\n",
       "  </tbody>\n",
       "</table>\n",
       "</div>"
      ],
      "text/plain": [
       "                                             Opening           Opening Name  \\\n",
       "0                    Italian Game: Hungarian Defense           Italian Game   \n",
       "1             Italian Game: Anti-Fried Liver Defense           Italian Game   \n",
       "2                         Russian Game: Cozio Attack           Russian Game   \n",
       "3  King's Indian Defense: Accelerated Averbakh Va...  King's Indian Defense   \n",
       "4                                       Duras Gambit           Duras Gambit   \n",
       "\n",
       "                 Opening Variation  \n",
       "0                Hungarian Defense  \n",
       "1         Anti-Fried Liver Defense  \n",
       "2                     Cozio Attack  \n",
       "3   Accelerated Averbakh Variation  \n",
       "4                             None  "
      ]
     },
     "execution_count": 44,
     "metadata": {},
     "output_type": "execute_result"
    }
   ],
   "source": [
    "raw_df[['Opening','Opening Name', 'Opening Variation']].head()"
   ]
  },
  {
   "cell_type": "markdown",
   "id": "5dd0c1f5",
   "metadata": {},
   "source": [
    "###### 12. moves"
   ]
  },
  {
   "cell_type": "code",
   "execution_count": 45,
   "id": "c932e857",
   "metadata": {},
   "outputs": [
    {
     "data": {
      "text/plain": [
       "'e4 e5 Nf3 Nc6 Bc4 Be7 c3 d6 d4 exd4 cxd4 Bg4 h3 Bxf3 Qxf3 Nf6 Be3 O-O O-O a6 Nc3 b5 Bb3 Na5 Bd5 Nxd5 Nxd5 Nc4 b3 Nxe3 fxe3 Bg5 Rf2 c5 Raf1 f6 g3 Ra7 h4 Bh6 Qf5 Raf7 Kh2 Qd7 Qf3 cxd4 exd4 Qe6 Qf5 Qxf5 Rxf5 a5 g4 Bd2 Kg3 b4 Kf2 g6 Rf3 Kg7 Ke2 Bh6 e5 dxe5 dxe5 fxe5 Rxf7+ Rxf7 Rxf7+ Kxf7 Kd3 Bf8 Ke4 Bd6 Nb6 Ke6 Nc4 Bc7 h5 gxh5 gxh5 Kf6 Kd5 Kf5 Ne3+ Kf4 Nc4 e4 Kd4 Kg5 Kxe4 Kxh5 Kd5 Kg4 Kc6 Bd8 Kb5 h5 Nxa5 Bxa5 Kxa5 h4 Kxb4 h3 a4 h2 a5 h1=Q a6 Qa8 a7 Qxa7 Kc4 Qb6 Kc3'"
      ]
     },
     "execution_count": 45,
     "metadata": {},
     "output_type": "execute_result"
    }
   ],
   "source": [
    "raw_df['moves'][0]"
   ]
  },
  {
   "cell_type": "markdown",
   "id": "e89a8d5a",
   "metadata": {},
   "source": [
    "- a move in chess means 1 by each player so only e4 is half move, e4 e5 is a 1st move"
   ]
  },
  {
   "cell_type": "code",
   "execution_count": 46,
   "id": "0db419d4",
   "metadata": {},
   "outputs": [],
   "source": [
    "## Calculating No. of Moves\n",
    "raw_df['No. of Moves'] = [math.ceil(len(x.split())/2) for x in raw_df['moves']]"
   ]
  },
  {
   "cell_type": "code",
   "execution_count": 47,
   "id": "970e6fb2",
   "metadata": {},
   "outputs": [],
   "source": [
    "## Extracting first 4 Moves\n",
    "raw_df['1.0 Move'] = [ x.split()[0]  for x in raw_df['moves']]\n",
    "raw_df['1.1 Move'] = [ x.split()[1]  for x in raw_df['moves']]\n",
    "raw_df['2.0 Move'] = [ x.split()[2]  for x in raw_df['moves']]\n",
    "raw_df['2.1 Move'] = [ x.split()[3]  for x in raw_df['moves']]"
   ]
  },
  {
   "cell_type": "code",
   "execution_count": 48,
   "id": "6b185d06",
   "metadata": {},
   "outputs": [],
   "source": [
    "## Alloting the first 4 moves to players\n",
    "raw_df.loc[raw_df['My Color'] == 'White', 'M.1'] = raw_df[raw_df['My Color'] == 'White']['1.0 Move']\n",
    "raw_df.loc[raw_df['My Color'] == 'White', 'M.2'] = raw_df[raw_df['My Color'] == 'White']['2.0 Move']\n",
    "raw_df.loc[raw_df['My Color'] == 'Black', 'M.1'] = raw_df[raw_df['My Color'] == 'Black']['1.1 Move']\n",
    "raw_df.loc[raw_df['My Color'] == 'Black', 'M.2'] = raw_df[raw_df['My Color'] == 'Black']['2.1 Move']\n",
    "\n",
    "raw_df.loc[raw_df['My Color'] == 'White', 'O.1'] = raw_df[raw_df['My Color'] == 'White']['1.1 Move']\n",
    "raw_df.loc[raw_df['My Color'] == 'White', 'O.2'] = raw_df[raw_df['My Color'] == 'White']['2.1 Move']\n",
    "raw_df.loc[raw_df['My Color'] == 'Black', 'O.1'] = raw_df[raw_df['My Color'] == 'Black']['1.0 Move']\n",
    "raw_df.loc[raw_df['My Color'] == 'Black', 'O.2'] = raw_df[raw_df['My Color'] == 'Black']['2.0 Move']"
   ]
  },
  {
   "cell_type": "code",
   "execution_count": 49,
   "id": "eedf550d",
   "metadata": {},
   "outputs": [
    {
     "data": {
      "text/html": [
       "<div>\n",
       "<style scoped>\n",
       "    .dataframe tbody tr th:only-of-type {\n",
       "        vertical-align: middle;\n",
       "    }\n",
       "\n",
       "    .dataframe tbody tr th {\n",
       "        vertical-align: top;\n",
       "    }\n",
       "\n",
       "    .dataframe thead th {\n",
       "        text-align: right;\n",
       "    }\n",
       "</style>\n",
       "<table border=\"1\" class=\"dataframe\">\n",
       "  <thead>\n",
       "    <tr style=\"text-align: right;\">\n",
       "      <th></th>\n",
       "      <th>Game ID</th>\n",
       "      <th>rated</th>\n",
       "      <th>variant</th>\n",
       "      <th>speed</th>\n",
       "      <th>Game Type</th>\n",
       "      <th>createdAt</th>\n",
       "      <th>lastMoveAt</th>\n",
       "      <th>Status</th>\n",
       "      <th>players</th>\n",
       "      <th>winner</th>\n",
       "      <th>...</th>\n",
       "      <th>Opening Variation</th>\n",
       "      <th>No. of Moves</th>\n",
       "      <th>1.0 Move</th>\n",
       "      <th>1.1 Move</th>\n",
       "      <th>2.0 Move</th>\n",
       "      <th>2.1 Move</th>\n",
       "      <th>M.1</th>\n",
       "      <th>M.2</th>\n",
       "      <th>O.1</th>\n",
       "      <th>O.2</th>\n",
       "    </tr>\n",
       "  </thead>\n",
       "  <tbody>\n",
       "    <tr>\n",
       "      <th>0</th>\n",
       "      <td>qnrlibcn</td>\n",
       "      <td>True</td>\n",
       "      <td>standard</td>\n",
       "      <td>blitz</td>\n",
       "      <td>Blitz</td>\n",
       "      <td>2022-06-14 18:50:41</td>\n",
       "      <td>2022-06-14 19:00:45</td>\n",
       "      <td>Resign</td>\n",
       "      <td>{'white': {'user': {'name': 'YourKingIsInDange...</td>\n",
       "      <td>black</td>\n",
       "      <td>...</td>\n",
       "      <td>Hungarian Defense</td>\n",
       "      <td>58</td>\n",
       "      <td>e4</td>\n",
       "      <td>e5</td>\n",
       "      <td>Nf3</td>\n",
       "      <td>Nc6</td>\n",
       "      <td>e4</td>\n",
       "      <td>Nf3</td>\n",
       "      <td>e5</td>\n",
       "      <td>Nc6</td>\n",
       "    </tr>\n",
       "  </tbody>\n",
       "</table>\n",
       "<p>1 rows × 47 columns</p>\n",
       "</div>"
      ],
      "text/plain": [
       "    Game ID  rated   variant  speed Game Type           createdAt  \\\n",
       "0  qnrlibcn   True  standard  blitz     Blitz 2022-06-14 18:50:41   \n",
       "\n",
       "           lastMoveAt  Status  \\\n",
       "0 2022-06-14 19:00:45  Resign   \n",
       "\n",
       "                                             players winner  ...  \\\n",
       "0  {'white': {'user': {'name': 'YourKingIsInDange...  black  ...   \n",
       "\n",
       "    Opening Variation No. of Moves 1.0 Move 1.1 Move 2.0 Move 2.1 Move M.1  \\\n",
       "0   Hungarian Defense           58       e4       e5      Nf3      Nc6  e4   \n",
       "\n",
       "   M.2 O.1  O.2  \n",
       "0  Nf3  e5  Nc6  \n",
       "\n",
       "[1 rows x 47 columns]"
      ]
     },
     "execution_count": 49,
     "metadata": {},
     "output_type": "execute_result"
    }
   ],
   "source": [
    "raw_df.head(1)"
   ]
  },
  {
   "cell_type": "markdown",
   "id": "4eb90e99",
   "metadata": {},
   "source": [
    "#### 13. clock"
   ]
  },
  {
   "cell_type": "code",
   "execution_count": 50,
   "id": "1e4ae52b",
   "metadata": {},
   "outputs": [
    {
     "data": {
      "text/plain": [
       "0       {'initial': 300, 'increment': 0, 'totalTime': ...\n",
       "1       {'initial': 300, 'increment': 0, 'totalTime': ...\n",
       "2       {'initial': 300, 'increment': 0, 'totalTime': ...\n",
       "3       {'initial': 300, 'increment': 0, 'totalTime': ...\n",
       "4       {'initial': 300, 'increment': 0, 'totalTime': ...\n",
       "                              ...                        \n",
       "1223    {'initial': 180, 'increment': 0, 'totalTime': ...\n",
       "1224    {'initial': 180, 'increment': 0, 'totalTime': ...\n",
       "1225    {'initial': 180, 'increment': 0, 'totalTime': ...\n",
       "1226    {'initial': 180, 'increment': 0, 'totalTime': ...\n",
       "1227    {'initial': 180, 'increment': 0, 'totalTime': ...\n",
       "Name: clock, Length: 1212, dtype: object"
      ]
     },
     "execution_count": 50,
     "metadata": {},
     "output_type": "execute_result"
    }
   ],
   "source": [
    "raw_df['clock']"
   ]
  },
  {
   "cell_type": "code",
   "execution_count": 51,
   "id": "fb9e6800",
   "metadata": {},
   "outputs": [
    {
     "data": {
      "text/plain": [
       "{'initial': 300, 'increment': 0, 'totalTime': 300}"
      ]
     },
     "execution_count": 51,
     "metadata": {},
     "output_type": "execute_result"
    }
   ],
   "source": [
    "raw_df['clock'][0]"
   ]
  },
  {
   "cell_type": "markdown",
   "id": "d27ccaea",
   "metadata": {},
   "source": [
    "- Fomating it to the format: 5 Min + 0 Sec"
   ]
  },
  {
   "cell_type": "code",
   "execution_count": 52,
   "id": "b90cb007",
   "metadata": {},
   "outputs": [],
   "source": [
    "raw_df['Time Control'] = ['{} Min + {} Sec'.format((x['initial']//60), x['increment']) for x in raw_df['clock'] ]"
   ]
  },
  {
   "cell_type": "code",
   "execution_count": 53,
   "id": "b80e4a9b",
   "metadata": {},
   "outputs": [
    {
     "data": {
      "text/html": [
       "<div>\n",
       "<style scoped>\n",
       "    .dataframe tbody tr th:only-of-type {\n",
       "        vertical-align: middle;\n",
       "    }\n",
       "\n",
       "    .dataframe tbody tr th {\n",
       "        vertical-align: top;\n",
       "    }\n",
       "\n",
       "    .dataframe thead th {\n",
       "        text-align: right;\n",
       "    }\n",
       "</style>\n",
       "<table border=\"1\" class=\"dataframe\">\n",
       "  <thead>\n",
       "    <tr style=\"text-align: right;\">\n",
       "      <th></th>\n",
       "      <th>Game ID</th>\n",
       "      <th>rated</th>\n",
       "      <th>variant</th>\n",
       "      <th>speed</th>\n",
       "      <th>Game Type</th>\n",
       "      <th>createdAt</th>\n",
       "      <th>lastMoveAt</th>\n",
       "      <th>Status</th>\n",
       "      <th>players</th>\n",
       "      <th>winner</th>\n",
       "      <th>...</th>\n",
       "      <th>No. of Moves</th>\n",
       "      <th>1.0 Move</th>\n",
       "      <th>1.1 Move</th>\n",
       "      <th>2.0 Move</th>\n",
       "      <th>2.1 Move</th>\n",
       "      <th>M.1</th>\n",
       "      <th>M.2</th>\n",
       "      <th>O.1</th>\n",
       "      <th>O.2</th>\n",
       "      <th>Time Control</th>\n",
       "    </tr>\n",
       "  </thead>\n",
       "  <tbody>\n",
       "    <tr>\n",
       "      <th>0</th>\n",
       "      <td>qnrlibcn</td>\n",
       "      <td>True</td>\n",
       "      <td>standard</td>\n",
       "      <td>blitz</td>\n",
       "      <td>Blitz</td>\n",
       "      <td>2022-06-14 18:50:41</td>\n",
       "      <td>2022-06-14 19:00:45</td>\n",
       "      <td>Resign</td>\n",
       "      <td>{'white': {'user': {'name': 'YourKingIsInDange...</td>\n",
       "      <td>black</td>\n",
       "      <td>...</td>\n",
       "      <td>58</td>\n",
       "      <td>e4</td>\n",
       "      <td>e5</td>\n",
       "      <td>Nf3</td>\n",
       "      <td>Nc6</td>\n",
       "      <td>e4</td>\n",
       "      <td>Nf3</td>\n",
       "      <td>e5</td>\n",
       "      <td>Nc6</td>\n",
       "      <td>5 Min + 0 Sec</td>\n",
       "    </tr>\n",
       "  </tbody>\n",
       "</table>\n",
       "<p>1 rows × 48 columns</p>\n",
       "</div>"
      ],
      "text/plain": [
       "    Game ID  rated   variant  speed Game Type           createdAt  \\\n",
       "0  qnrlibcn   True  standard  blitz     Blitz 2022-06-14 18:50:41   \n",
       "\n",
       "           lastMoveAt  Status  \\\n",
       "0 2022-06-14 19:00:45  Resign   \n",
       "\n",
       "                                             players winner  ... No. of Moves  \\\n",
       "0  {'white': {'user': {'name': 'YourKingIsInDange...  black  ...           58   \n",
       "\n",
       "  1.0 Move 1.1 Move 2.0 Move 2.1 Move M.1  M.2 O.1  O.2   Time Control  \n",
       "0       e4       e5      Nf3      Nc6  e4  Nf3  e5  Nc6  5 Min + 0 Sec  \n",
       "\n",
       "[1 rows x 48 columns]"
      ]
     },
     "execution_count": 53,
     "metadata": {},
     "output_type": "execute_result"
    }
   ],
   "source": [
    "raw_df.head(1)"
   ]
  },
  {
   "cell_type": "markdown",
   "id": "bf433c4e",
   "metadata": {},
   "source": [
    "###### 14. tournament"
   ]
  },
  {
   "cell_type": "code",
   "execution_count": 54,
   "id": "f2b2057d",
   "metadata": {},
   "outputs": [
    {
     "data": {
      "text/plain": [
       "array([nan, '7qLQnyrI', 'Kbq6hs06', '1NUtWJEq', 'Z1JJNSIj', 'UZu3qGKo',\n",
       "       'ZYV0J6y4', 'r6oTBiYG', 'IPqQZGlp', 'lkwODJck', 'DBEYi5oB',\n",
       "       'llRxupSK', 'VA9FDXDc', '90ubk1Kc', 'VCDjG9zz', 'K52V3lsw',\n",
       "       'fkaxbE7M', 'bSUXiKLg', 'nJIzx6gv', '2VuIsji8', 'Ah8UZJ0q',\n",
       "       'KEGrsI1X', 'FDpULmSl', 'iNaKmb1Q', 'tMjwUbJy', 'S0b6Su1w',\n",
       "       'j4gzLrhD', 'DCqdT9XM', 'KiqK3dw9', 'IS972gpN', 'auAEb8Ea',\n",
       "       'FcsYKtz3', 'M8Y2wNS0', 'uYI0yFDk', 'eeez5QYn', 'sCVzW92g',\n",
       "       '0mScIt6f', 'DKBjiyqb', 'i1AeUK1a', 'iL1zBh0t', 'snbdoMJL',\n",
       "       'iPdbatnK', 'r5FgKQae', 'PhPhROoO', 'qkib6R1a', 'HgCyVikw',\n",
       "       'YYVetI00', 'CXHLrLsZ', 'kARcOy6S', 'xxu91IZP', 'Cix3nOtA',\n",
       "       '6gzzLiBH', 'tM1o9SZB', 'AWI8SOSG', 'ln53skXN', 'fY3JY2yM',\n",
       "       'hRoPjUvq', 'pSWL0meH', 'HyA1mM4y'], dtype=object)"
      ]
     },
     "execution_count": 54,
     "metadata": {},
     "output_type": "execute_result"
    }
   ],
   "source": [
    "raw_df['tournament'].unique()"
   ]
  },
  {
   "cell_type": "markdown",
   "id": "a02a481f",
   "metadata": {},
   "source": [
    "So, if the game is played in a tournament it has a tournamnt id Where else there is None, so we'll make two columns,\n",
    "1. Tournament Game - bool type\n",
    "2. Tournament Id - str type"
   ]
  },
  {
   "cell_type": "code",
   "execution_count": 55,
   "id": "c3a9fcb8",
   "metadata": {},
   "outputs": [],
   "source": [
    "raw_df.loc[raw_df['tournament'].isna(), 'Tournament Game'] = False\n",
    "raw_df.loc[~(raw_df['tournament'].isna()), 'Tournament Game'] = True"
   ]
  },
  {
   "cell_type": "code",
   "execution_count": 56,
   "id": "d6aa081d",
   "metadata": {},
   "outputs": [],
   "source": [
    "raw_df.rename(columns = {'tournament':'Tournament ID'}, inplace = True)"
   ]
  },
  {
   "cell_type": "markdown",
   "id": "a2bca0b5",
   "metadata": {},
   "source": [
    "###### 15. initialFen"
   ]
  },
  {
   "cell_type": "code",
   "execution_count": 57,
   "id": "0c872239",
   "metadata": {},
   "outputs": [
    {
     "data": {
      "text/plain": [
       "array([nan], dtype=object)"
      ]
     },
     "execution_count": 57,
     "metadata": {},
     "output_type": "execute_result"
    }
   ],
   "source": [
    "raw_df['initialFen'].unique()"
   ]
  },
  {
   "cell_type": "markdown",
   "id": "3e947fa1",
   "metadata": {},
   "source": [
    "It has nothing"
   ]
  },
  {
   "cell_type": "code",
   "execution_count": 58,
   "id": "9b326faa",
   "metadata": {},
   "outputs": [],
   "source": [
    "## Taking our Usefull Variables in a new Dataframe"
   ]
  },
  {
   "cell_type": "code",
   "execution_count": 59,
   "id": "4e15cc34",
   "metadata": {},
   "outputs": [
    {
     "data": {
      "text/plain": [
       "Index(['Game ID', 'rated', 'variant', 'speed', 'Game Type', 'createdAt',\n",
       "       'lastMoveAt', 'Status', 'players', 'winner', 'opening', 'moves',\n",
       "       'clock', 'Tournament ID', 'initialFen', 'Start Time', 'Start Date',\n",
       "       'End Time', 'End Date', 'White_id', 'White ELO', 'White ELO Change',\n",
       "       'Black_id', 'Black ELO', 'Black ELO Change', 'My ID', 'My Rating',\n",
       "       'My Rating Change', 'Opponent ID', 'Opponent Rating',\n",
       "       'Opponent Rating Change', 'My Color', 'Result', 'Opening ECO',\n",
       "       'Opening', 'Opening Ply', 'Opening Name', 'Opening Variation',\n",
       "       'No. of Moves', '1.0 Move', '1.1 Move', '2.0 Move', '2.1 Move', 'M.1',\n",
       "       'M.2', 'O.1', 'O.2', 'Time Control', 'Tournament Game'],\n",
       "      dtype='object')"
      ]
     },
     "execution_count": 59,
     "metadata": {},
     "output_type": "execute_result"
    }
   ],
   "source": [
    "raw_df.columns"
   ]
  },
  {
   "cell_type": "code",
   "execution_count": 60,
   "id": "7b63ae8a",
   "metadata": {},
   "outputs": [],
   "source": [
    "Chess_df = raw_df[['Game ID', 'Start Date','Start Time', 'End Date', 'End Time', 'Game Type',\n",
    "        'Time Control', 'Tournament Game', 'Tournament ID', 'createdAt', 'lastMoveAt',\n",
    "        'My ID', 'My Rating', 'My Rating Change', 'My Color',\n",
    "        'Opponent ID', 'Opponent Rating', 'Opponent Rating Change', 'Status',  'Result',\n",
    "        'Opening ECO', 'Opening Ply', 'Opening', 'Opening Variation', \n",
    "        'No. of Moves', '1.0 Move', '1.1 Move', '2.0 Move', '2.1 Move', \n",
    "        'M.1', 'M.2', 'O.1', 'O.2']].copy()"
   ]
  },
  {
   "cell_type": "code",
   "execution_count": 61,
   "id": "a09b3bba",
   "metadata": {},
   "outputs": [
    {
     "data": {
      "text/html": [
       "<div>\n",
       "<style scoped>\n",
       "    .dataframe tbody tr th:only-of-type {\n",
       "        vertical-align: middle;\n",
       "    }\n",
       "\n",
       "    .dataframe tbody tr th {\n",
       "        vertical-align: top;\n",
       "    }\n",
       "\n",
       "    .dataframe thead th {\n",
       "        text-align: right;\n",
       "    }\n",
       "</style>\n",
       "<table border=\"1\" class=\"dataframe\">\n",
       "  <thead>\n",
       "    <tr style=\"text-align: right;\">\n",
       "      <th></th>\n",
       "      <th>Game ID</th>\n",
       "      <th>Start Date</th>\n",
       "      <th>Start Time</th>\n",
       "      <th>End Date</th>\n",
       "      <th>End Time</th>\n",
       "      <th>Game Type</th>\n",
       "      <th>Time Control</th>\n",
       "      <th>Tournament Game</th>\n",
       "      <th>Tournament ID</th>\n",
       "      <th>createdAt</th>\n",
       "      <th>...</th>\n",
       "      <th>Opening Variation</th>\n",
       "      <th>No. of Moves</th>\n",
       "      <th>1.0 Move</th>\n",
       "      <th>1.1 Move</th>\n",
       "      <th>2.0 Move</th>\n",
       "      <th>2.1 Move</th>\n",
       "      <th>M.1</th>\n",
       "      <th>M.2</th>\n",
       "      <th>O.1</th>\n",
       "      <th>O.2</th>\n",
       "    </tr>\n",
       "  </thead>\n",
       "  <tbody>\n",
       "    <tr>\n",
       "      <th>0</th>\n",
       "      <td>qnrlibcn</td>\n",
       "      <td>2022-06-14</td>\n",
       "      <td>18:50:41</td>\n",
       "      <td>2022-06-14</td>\n",
       "      <td>19:00:45</td>\n",
       "      <td>Blitz</td>\n",
       "      <td>5 Min + 0 Sec</td>\n",
       "      <td>False</td>\n",
       "      <td>NaN</td>\n",
       "      <td>2022-06-14 18:50:41</td>\n",
       "      <td>...</td>\n",
       "      <td>Hungarian Defense</td>\n",
       "      <td>58</td>\n",
       "      <td>e4</td>\n",
       "      <td>e5</td>\n",
       "      <td>Nf3</td>\n",
       "      <td>Nc6</td>\n",
       "      <td>e4</td>\n",
       "      <td>Nf3</td>\n",
       "      <td>e5</td>\n",
       "      <td>Nc6</td>\n",
       "    </tr>\n",
       "    <tr>\n",
       "      <th>1</th>\n",
       "      <td>CwbVPlQf</td>\n",
       "      <td>2022-06-12</td>\n",
       "      <td>14:46:40</td>\n",
       "      <td>2022-06-12</td>\n",
       "      <td>14:52:41</td>\n",
       "      <td>Blitz</td>\n",
       "      <td>5 Min + 0 Sec</td>\n",
       "      <td>False</td>\n",
       "      <td>NaN</td>\n",
       "      <td>2022-06-12 14:46:40</td>\n",
       "      <td>...</td>\n",
       "      <td>Anti-Fried Liver Defense</td>\n",
       "      <td>33</td>\n",
       "      <td>e4</td>\n",
       "      <td>e5</td>\n",
       "      <td>Bc4</td>\n",
       "      <td>Nc6</td>\n",
       "      <td>e5</td>\n",
       "      <td>Nc6</td>\n",
       "      <td>e4</td>\n",
       "      <td>Bc4</td>\n",
       "    </tr>\n",
       "    <tr>\n",
       "      <th>2</th>\n",
       "      <td>v4Jyr7UC</td>\n",
       "      <td>2022-06-12</td>\n",
       "      <td>14:39:05</td>\n",
       "      <td>2022-06-12</td>\n",
       "      <td>14:46:28</td>\n",
       "      <td>Blitz</td>\n",
       "      <td>5 Min + 0 Sec</td>\n",
       "      <td>False</td>\n",
       "      <td>NaN</td>\n",
       "      <td>2022-06-12 14:39:05</td>\n",
       "      <td>...</td>\n",
       "      <td>Cozio Attack</td>\n",
       "      <td>26</td>\n",
       "      <td>e4</td>\n",
       "      <td>e5</td>\n",
       "      <td>Nf3</td>\n",
       "      <td>Nf6</td>\n",
       "      <td>e4</td>\n",
       "      <td>Nf3</td>\n",
       "      <td>e5</td>\n",
       "      <td>Nf6</td>\n",
       "    </tr>\n",
       "    <tr>\n",
       "      <th>3</th>\n",
       "      <td>Fs56klNV</td>\n",
       "      <td>2022-06-11</td>\n",
       "      <td>21:07:25</td>\n",
       "      <td>2022-06-11</td>\n",
       "      <td>21:16:46</td>\n",
       "      <td>Blitz</td>\n",
       "      <td>5 Min + 0 Sec</td>\n",
       "      <td>False</td>\n",
       "      <td>NaN</td>\n",
       "      <td>2022-06-11 21:07:25</td>\n",
       "      <td>...</td>\n",
       "      <td>Accelerated Averbakh Variation</td>\n",
       "      <td>36</td>\n",
       "      <td>d4</td>\n",
       "      <td>g6</td>\n",
       "      <td>e4</td>\n",
       "      <td>Bg7</td>\n",
       "      <td>g6</td>\n",
       "      <td>Bg7</td>\n",
       "      <td>d4</td>\n",
       "      <td>e4</td>\n",
       "    </tr>\n",
       "    <tr>\n",
       "      <th>4</th>\n",
       "      <td>jv5yaYp9</td>\n",
       "      <td>2022-06-10</td>\n",
       "      <td>02:19:50</td>\n",
       "      <td>2022-06-10</td>\n",
       "      <td>02:28:04</td>\n",
       "      <td>Blitz</td>\n",
       "      <td>5 Min + 0 Sec</td>\n",
       "      <td>False</td>\n",
       "      <td>NaN</td>\n",
       "      <td>2022-06-10 02:19:50</td>\n",
       "      <td>...</td>\n",
       "      <td>None</td>\n",
       "      <td>27</td>\n",
       "      <td>e4</td>\n",
       "      <td>f5</td>\n",
       "      <td>exf5</td>\n",
       "      <td>Kf7</td>\n",
       "      <td>e4</td>\n",
       "      <td>exf5</td>\n",
       "      <td>f5</td>\n",
       "      <td>Kf7</td>\n",
       "    </tr>\n",
       "  </tbody>\n",
       "</table>\n",
       "<p>5 rows × 33 columns</p>\n",
       "</div>"
      ],
      "text/plain": [
       "    Game ID Start Date Start Time   End Date  End Time Game Type  \\\n",
       "0  qnrlibcn 2022-06-14   18:50:41 2022-06-14  19:00:45     Blitz   \n",
       "1  CwbVPlQf 2022-06-12   14:46:40 2022-06-12  14:52:41     Blitz   \n",
       "2  v4Jyr7UC 2022-06-12   14:39:05 2022-06-12  14:46:28     Blitz   \n",
       "3  Fs56klNV 2022-06-11   21:07:25 2022-06-11  21:16:46     Blitz   \n",
       "4  jv5yaYp9 2022-06-10   02:19:50 2022-06-10  02:28:04     Blitz   \n",
       "\n",
       "    Time Control Tournament Game Tournament ID           createdAt  ...  \\\n",
       "0  5 Min + 0 Sec           False           NaN 2022-06-14 18:50:41  ...   \n",
       "1  5 Min + 0 Sec           False           NaN 2022-06-12 14:46:40  ...   \n",
       "2  5 Min + 0 Sec           False           NaN 2022-06-12 14:39:05  ...   \n",
       "3  5 Min + 0 Sec           False           NaN 2022-06-11 21:07:25  ...   \n",
       "4  5 Min + 0 Sec           False           NaN 2022-06-10 02:19:50  ...   \n",
       "\n",
       "                 Opening Variation No. of Moves 1.0 Move 1.1 Move 2.0 Move  \\\n",
       "0                Hungarian Defense           58       e4       e5      Nf3   \n",
       "1         Anti-Fried Liver Defense           33       e4       e5      Bc4   \n",
       "2                     Cozio Attack           26       e4       e5      Nf3   \n",
       "3   Accelerated Averbakh Variation           36       d4       g6       e4   \n",
       "4                             None           27       e4       f5     exf5   \n",
       "\n",
       "  2.1 Move M.1   M.2 O.1  O.2  \n",
       "0      Nc6  e4   Nf3  e5  Nc6  \n",
       "1      Nc6  e5   Nc6  e4  Bc4  \n",
       "2      Nf6  e4   Nf3  e5  Nf6  \n",
       "3      Bg7  g6   Bg7  d4   e4  \n",
       "4      Kf7  e4  exf5  f5  Kf7  \n",
       "\n",
       "[5 rows x 33 columns]"
      ]
     },
     "execution_count": 61,
     "metadata": {},
     "output_type": "execute_result"
    }
   ],
   "source": [
    "Chess_df.head()"
   ]
  },
  {
   "cell_type": "markdown",
   "id": "26965d53",
   "metadata": {},
   "source": [
    "# Creating Calculated Fields"
   ]
  },
  {
   "cell_type": "markdown",
   "id": "2dbcce3f",
   "metadata": {},
   "source": [
    "###### New Rating"
   ]
  },
  {
   "cell_type": "code",
   "execution_count": 62,
   "id": "f8369519",
   "metadata": {},
   "outputs": [],
   "source": [
    "Chess_df['My New Rating'] = Chess_df['My Rating'] + Chess_df['My Rating Change']"
   ]
  },
  {
   "cell_type": "code",
   "execution_count": 63,
   "id": "aa6395c3",
   "metadata": {},
   "outputs": [
    {
     "data": {
      "text/html": [
       "<div>\n",
       "<style scoped>\n",
       "    .dataframe tbody tr th:only-of-type {\n",
       "        vertical-align: middle;\n",
       "    }\n",
       "\n",
       "    .dataframe tbody tr th {\n",
       "        vertical-align: top;\n",
       "    }\n",
       "\n",
       "    .dataframe thead th {\n",
       "        text-align: right;\n",
       "    }\n",
       "</style>\n",
       "<table border=\"1\" class=\"dataframe\">\n",
       "  <thead>\n",
       "    <tr style=\"text-align: right;\">\n",
       "      <th></th>\n",
       "      <th>Game ID</th>\n",
       "      <th>Start Date</th>\n",
       "      <th>Start Time</th>\n",
       "      <th>End Date</th>\n",
       "      <th>End Time</th>\n",
       "      <th>Game Type</th>\n",
       "      <th>Time Control</th>\n",
       "      <th>Tournament Game</th>\n",
       "      <th>Tournament ID</th>\n",
       "      <th>createdAt</th>\n",
       "      <th>...</th>\n",
       "      <th>No. of Moves</th>\n",
       "      <th>1.0 Move</th>\n",
       "      <th>1.1 Move</th>\n",
       "      <th>2.0 Move</th>\n",
       "      <th>2.1 Move</th>\n",
       "      <th>M.1</th>\n",
       "      <th>M.2</th>\n",
       "      <th>O.1</th>\n",
       "      <th>O.2</th>\n",
       "      <th>My New Rating</th>\n",
       "    </tr>\n",
       "  </thead>\n",
       "  <tbody>\n",
       "    <tr>\n",
       "      <th>0</th>\n",
       "      <td>qnrlibcn</td>\n",
       "      <td>2022-06-14</td>\n",
       "      <td>18:50:41</td>\n",
       "      <td>2022-06-14</td>\n",
       "      <td>19:00:45</td>\n",
       "      <td>Blitz</td>\n",
       "      <td>5 Min + 0 Sec</td>\n",
       "      <td>False</td>\n",
       "      <td>NaN</td>\n",
       "      <td>2022-06-14 18:50:41</td>\n",
       "      <td>...</td>\n",
       "      <td>58</td>\n",
       "      <td>e4</td>\n",
       "      <td>e5</td>\n",
       "      <td>Nf3</td>\n",
       "      <td>Nc6</td>\n",
       "      <td>e4</td>\n",
       "      <td>Nf3</td>\n",
       "      <td>e5</td>\n",
       "      <td>Nc6</td>\n",
       "      <td>1651</td>\n",
       "    </tr>\n",
       "    <tr>\n",
       "      <th>1</th>\n",
       "      <td>CwbVPlQf</td>\n",
       "      <td>2022-06-12</td>\n",
       "      <td>14:46:40</td>\n",
       "      <td>2022-06-12</td>\n",
       "      <td>14:52:41</td>\n",
       "      <td>Blitz</td>\n",
       "      <td>5 Min + 0 Sec</td>\n",
       "      <td>False</td>\n",
       "      <td>NaN</td>\n",
       "      <td>2022-06-12 14:46:40</td>\n",
       "      <td>...</td>\n",
       "      <td>33</td>\n",
       "      <td>e4</td>\n",
       "      <td>e5</td>\n",
       "      <td>Bc4</td>\n",
       "      <td>Nc6</td>\n",
       "      <td>e5</td>\n",
       "      <td>Nc6</td>\n",
       "      <td>e4</td>\n",
       "      <td>Bc4</td>\n",
       "      <td>1659</td>\n",
       "    </tr>\n",
       "  </tbody>\n",
       "</table>\n",
       "<p>2 rows × 34 columns</p>\n",
       "</div>"
      ],
      "text/plain": [
       "    Game ID Start Date Start Time   End Date  End Time Game Type  \\\n",
       "0  qnrlibcn 2022-06-14   18:50:41 2022-06-14  19:00:45     Blitz   \n",
       "1  CwbVPlQf 2022-06-12   14:46:40 2022-06-12  14:52:41     Blitz   \n",
       "\n",
       "    Time Control Tournament Game Tournament ID           createdAt  ...  \\\n",
       "0  5 Min + 0 Sec           False           NaN 2022-06-14 18:50:41  ...   \n",
       "1  5 Min + 0 Sec           False           NaN 2022-06-12 14:46:40  ...   \n",
       "\n",
       "  No. of Moves 1.0 Move 1.1 Move 2.0 Move 2.1 Move M.1  M.2 O.1  O.2  \\\n",
       "0           58       e4       e5      Nf3      Nc6  e4  Nf3  e5  Nc6   \n",
       "1           33       e4       e5      Bc4      Nc6  e5  Nc6  e4  Bc4   \n",
       "\n",
       "  My New Rating  \n",
       "0          1651  \n",
       "1          1659  \n",
       "\n",
       "[2 rows x 34 columns]"
      ]
     },
     "execution_count": 63,
     "metadata": {},
     "output_type": "execute_result"
    }
   ],
   "source": [
    "Chess_df.head(2)"
   ]
  },
  {
   "cell_type": "markdown",
   "id": "60992706",
   "metadata": {},
   "source": [
    "##### Time Interval"
   ]
  },
  {
   "cell_type": "code",
   "execution_count": 64,
   "id": "c21efed8",
   "metadata": {},
   "outputs": [],
   "source": [
    "for i in range(24):\n",
    "    Chess_df.loc[(datetime.time(i,0,0) < Chess_df['Start Time']) & \\\n",
    "        (Chess_df['Start Time'] < datetime.time(i,59,59)), 'Time Interval'] = \\\n",
    "            '{} {} - {} {}'.format(12 if i == 0 else i if i < 13 else i-12, 'AM' if i < 12 else 'PM', \n",
    "                                   i+1 if i+1 < 13 else i+1 - 12, 'AM' if i==23 else 'AM' if i+1 < 12 else 'PM')"
   ]
  },
  {
   "cell_type": "markdown",
   "id": "517a55bf",
   "metadata": {},
   "source": [
    "###### Day Time"
   ]
  },
  {
   "cell_type": "markdown",
   "id": "a1041a63",
   "metadata": {},
   "source": [
    "• 4AM - 7AM : Early Morning\\\n",
    "• 7AM - 9AM : Morning\\\n",
    "• 9AM - 12AM : Late Morning\\\n",
    "• 12AM - 3AM : Afternooon\\\n",
    "• 3AM - 5AM : Late Afternoon\\\n",
    "• 5AM - 7AM : Early Evening\\\n",
    "• 7AM - 9AM : Evening\\\n",
    "• 9AM - 11AM : Late Evening\\\n",
    "• 11AM - 2AM : Night\\\n",
    "• 2AM - 4AM : Late night"
   ]
  },
  {
   "cell_type": "code",
   "execution_count": 65,
   "id": "799d5325",
   "metadata": {},
   "outputs": [],
   "source": [
    "Chess_df.loc[(datetime.time(0,0,0) < Chess_df['Start Time']) & \\\n",
    "        (Chess_df['Start Time'] < datetime.time(1,59,59)), 'Day Time'] = 'Night'\n",
    "\n",
    "Chess_df.loc[(datetime.time(2,0,0) < Chess_df['Start Time']) & \\\n",
    "        (Chess_df['Start Time'] < datetime.time(3,59,59)), 'Day Time'] = 'Late Night'\n",
    "\n",
    "Chess_df.loc[(datetime.time(4,0,0) < Chess_df['Start Time']) & \\\n",
    "        (Chess_df['Start Time'] < datetime.time(6,59,59)), 'Day Time'] = 'Early Morning'\n",
    "\n",
    "Chess_df.loc[(datetime.time(7,0,0) < Chess_df['Start Time']) & \\\n",
    "        (Chess_df['Start Time'] < datetime.time(8,59,59)), 'Day Time'] = 'Morning'\n",
    "\n",
    "Chess_df.loc[(datetime.time(9,0,0) < Chess_df['Start Time']) & \\\n",
    "        (Chess_df['Start Time'] < datetime.time(11,59,59)), 'Day Time'] = 'Late Morning'\n",
    "\n",
    "Chess_df.loc[(datetime.time(12,0,0) < Chess_df['Start Time']) & \\\n",
    "        (Chess_df['Start Time'] < datetime.time(14,59,59)), 'Day Time'] = 'Afternoon'\n",
    "\n",
    "Chess_df.loc[(datetime.time(15,0,0) < Chess_df['Start Time']) & \\\n",
    "        (Chess_df['Start Time'] < datetime.time(16,59,59)), 'Day Time'] = 'Late Afternoon'\n",
    "\n",
    "Chess_df.loc[(datetime.time(17,0,0) < Chess_df['Start Time']) & \\\n",
    "        (Chess_df['Start Time'] < datetime.time(19,59,59)), 'Day Time'] = 'Early Evening'\n",
    "\n",
    "Chess_df.loc[(datetime.time(19,0,0) < Chess_df['Start Time']) & \\\n",
    "        (Chess_df['Start Time'] < datetime.time(20,59,59)), 'Day Time'] = 'Evening'\n",
    "\n",
    "Chess_df.loc[(datetime.time(21,0,0) < Chess_df['Start Time']) & \\\n",
    "        (Chess_df['Start Time'] < datetime.time(22,59,59)), 'Day Time'] = 'Late Evening'\n",
    "\n",
    "Chess_df.loc[(datetime.time(23,0,0) < Chess_df['Start Time']) & \\\n",
    "        (Chess_df['Start Time'] < datetime.time(23,59,59)), 'Day Time'] = 'Night'"
   ]
  },
  {
   "cell_type": "markdown",
   "id": "eb103fa6",
   "metadata": {},
   "source": [
    "##### Game Stage"
   ]
  },
  {
   "cell_type": "markdown",
   "id": "5e86ed64",
   "metadata": {},
   "source": [
    "0-15 Moves - Opening\\\n",
    "16-49 Moves - MidGame\\\n",
    "50+ Moves - EndGame\n"
   ]
  },
  {
   "cell_type": "code",
   "execution_count": 66,
   "id": "93bda173",
   "metadata": {},
   "outputs": [],
   "source": [
    "Chess_df.loc[Chess_df['No. of Moves'] <= 15, 'Game Stage'] = 'Opening'\n",
    "Chess_df.loc[(Chess_df['No. of Moves'] >= 16) &\\\n",
    "             (Chess_df['No. of Moves'] <= 49), 'Game Stage'] = 'Middlegame'\n",
    "Chess_df.loc[Chess_df['No. of Moves'] >= 50, 'Game Stage'] = 'Endgame'"
   ]
  },
  {
   "cell_type": "markdown",
   "id": "42bf3656",
   "metadata": {},
   "source": [
    "###### Is Rating Difference More Than Me"
   ]
  },
  {
   "cell_type": "code",
   "execution_count": 67,
   "id": "7f677a71",
   "metadata": {},
   "outputs": [],
   "source": [
    "Chess_df.loc[(Chess_df['Opponent Rating'] - Chess_df['My Rating']) > 0, \n",
    "             'Rating Difference More Than Me'] = True\n",
    "\n",
    "Chess_df.loc[(Chess_df['Opponent Rating'] - Chess_df['My Rating']) <= 0, \n",
    "             'Rating Difference More Than Me'] = False"
   ]
  },
  {
   "cell_type": "markdown",
   "id": "b256094c",
   "metadata": {},
   "source": [
    "# Saving The File"
   ]
  },
  {
   "cell_type": "code",
   "execution_count": 68,
   "id": "23411839",
   "metadata": {},
   "outputs": [],
   "source": [
    "Chess_df.to_csv('Chess_df.csv')"
   ]
  },
  {
   "cell_type": "code",
   "execution_count": 69,
   "id": "ddf9a8f3",
   "metadata": {},
   "outputs": [
    {
     "data": {
      "text/html": [
       "<div>\n",
       "<style scoped>\n",
       "    .dataframe tbody tr th:only-of-type {\n",
       "        vertical-align: middle;\n",
       "    }\n",
       "\n",
       "    .dataframe tbody tr th {\n",
       "        vertical-align: top;\n",
       "    }\n",
       "\n",
       "    .dataframe thead th {\n",
       "        text-align: right;\n",
       "    }\n",
       "</style>\n",
       "<table border=\"1\" class=\"dataframe\">\n",
       "  <thead>\n",
       "    <tr style=\"text-align: right;\">\n",
       "      <th></th>\n",
       "      <th>Game ID</th>\n",
       "      <th>Start Date</th>\n",
       "      <th>Start Time</th>\n",
       "      <th>End Date</th>\n",
       "      <th>End Time</th>\n",
       "      <th>Game Type</th>\n",
       "      <th>Time Control</th>\n",
       "      <th>Tournament Game</th>\n",
       "      <th>Tournament ID</th>\n",
       "      <th>createdAt</th>\n",
       "      <th>...</th>\n",
       "      <th>2.1 Move</th>\n",
       "      <th>M.1</th>\n",
       "      <th>M.2</th>\n",
       "      <th>O.1</th>\n",
       "      <th>O.2</th>\n",
       "      <th>My New Rating</th>\n",
       "      <th>Time Interval</th>\n",
       "      <th>Day Time</th>\n",
       "      <th>Game Stage</th>\n",
       "      <th>Rating Difference More Than Me</th>\n",
       "    </tr>\n",
       "  </thead>\n",
       "  <tbody>\n",
       "    <tr>\n",
       "      <th>0</th>\n",
       "      <td>qnrlibcn</td>\n",
       "      <td>2022-06-14</td>\n",
       "      <td>18:50:41</td>\n",
       "      <td>2022-06-14</td>\n",
       "      <td>19:00:45</td>\n",
       "      <td>Blitz</td>\n",
       "      <td>5 Min + 0 Sec</td>\n",
       "      <td>False</td>\n",
       "      <td>NaN</td>\n",
       "      <td>2022-06-14 18:50:41</td>\n",
       "      <td>...</td>\n",
       "      <td>Nc6</td>\n",
       "      <td>e4</td>\n",
       "      <td>Nf3</td>\n",
       "      <td>e5</td>\n",
       "      <td>Nc6</td>\n",
       "      <td>1651</td>\n",
       "      <td>6 PM - 7 PM</td>\n",
       "      <td>Early Evening</td>\n",
       "      <td>Endgame</td>\n",
       "      <td>False</td>\n",
       "    </tr>\n",
       "    <tr>\n",
       "      <th>1</th>\n",
       "      <td>CwbVPlQf</td>\n",
       "      <td>2022-06-12</td>\n",
       "      <td>14:46:40</td>\n",
       "      <td>2022-06-12</td>\n",
       "      <td>14:52:41</td>\n",
       "      <td>Blitz</td>\n",
       "      <td>5 Min + 0 Sec</td>\n",
       "      <td>False</td>\n",
       "      <td>NaN</td>\n",
       "      <td>2022-06-12 14:46:40</td>\n",
       "      <td>...</td>\n",
       "      <td>Nc6</td>\n",
       "      <td>e5</td>\n",
       "      <td>Nc6</td>\n",
       "      <td>e4</td>\n",
       "      <td>Bc4</td>\n",
       "      <td>1659</td>\n",
       "      <td>2 PM - 3 PM</td>\n",
       "      <td>Afternoon</td>\n",
       "      <td>Middlegame</td>\n",
       "      <td>False</td>\n",
       "    </tr>\n",
       "  </tbody>\n",
       "</table>\n",
       "<p>2 rows × 38 columns</p>\n",
       "</div>"
      ],
      "text/plain": [
       "    Game ID Start Date Start Time   End Date  End Time Game Type  \\\n",
       "0  qnrlibcn 2022-06-14   18:50:41 2022-06-14  19:00:45     Blitz   \n",
       "1  CwbVPlQf 2022-06-12   14:46:40 2022-06-12  14:52:41     Blitz   \n",
       "\n",
       "    Time Control Tournament Game Tournament ID           createdAt  ...  \\\n",
       "0  5 Min + 0 Sec           False           NaN 2022-06-14 18:50:41  ...   \n",
       "1  5 Min + 0 Sec           False           NaN 2022-06-12 14:46:40  ...   \n",
       "\n",
       "  2.1 Move M.1  M.2 O.1  O.2 My New Rating Time Interval       Day Time  \\\n",
       "0      Nc6  e4  Nf3  e5  Nc6          1651   6 PM - 7 PM  Early Evening   \n",
       "1      Nc6  e5  Nc6  e4  Bc4          1659   2 PM - 3 PM      Afternoon   \n",
       "\n",
       "   Game Stage Rating Difference More Than Me  \n",
       "0     Endgame                          False  \n",
       "1  Middlegame                          False  \n",
       "\n",
       "[2 rows x 38 columns]"
      ]
     },
     "execution_count": 69,
     "metadata": {},
     "output_type": "execute_result"
    }
   ],
   "source": [
    "Chess_df.head(2)"
   ]
  }
 ],
 "metadata": {
  "kernelspec": {
   "display_name": "Python 3 (ipykernel)",
   "language": "python",
   "name": "python3"
  },
  "language_info": {
   "codemirror_mode": {
    "name": "ipython",
    "version": 3
   },
   "file_extension": ".py",
   "mimetype": "text/x-python",
   "name": "python",
   "nbconvert_exporter": "python",
   "pygments_lexer": "ipython3",
   "version": "3.9.7"
  }
 },
 "nbformat": 4,
 "nbformat_minor": 5
}
